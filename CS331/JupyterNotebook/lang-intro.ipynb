{
 "cells": [
  {
   "cell_type": "markdown",
   "metadata": {},
   "source": [
    "# Python Language Intro"
   ]
  },
  {
   "cell_type": "markdown",
   "metadata": {},
   "source": [
    "## Agenda\n",
    "\n",
    "1. Language overview\n",
    "2. Built-in types, operators, and constructs\n",
    "3. Functions, Classes, and Modules"
   ]
  },
  {
   "cell_type": "markdown",
   "metadata": {
    "collapsed": true
   },
   "source": [
    "## Language overview\n",
    "\n",
    "Note: this is *not* a language course! Though I'll cover the important bits of the language (and standard library) that are relevant to class material, I expect you to master the language on your own time.\n",
    "\n",
    "Python ...\n",
    "\n",
    "- is *interpreted*\n",
    "- is *dynamically-typed*\n",
    "- is *automatically memory-managed*\n",
    "- supports *procedural*, *object-oriented*, *imperative* and *functional* programming paradigms\n",
    "- is designed (mostly) by one man: Guido van Rossum (aka “benevolent dictator”), and therefore has a fairly *opinionated* design\n",
    "- has a single reference implementation (CPython)\n",
    "- version 3 (the most recent version) is *not backwards-compatible* with version 2, though the latter is still widely used\n",
    "- has an interesting programming philosophy: \"There should be one — and preferably only one — obvious way to do it.\" (a.k.a. the \"Pythonic\" way) — see [The Zen of Python](https://www.python.org/dev/peps/pep-0020/)"
   ]
  },
  {
   "cell_type": "markdown",
   "metadata": {},
   "source": [
    "## Built in types, operators, and constructs"
   ]
  },
  {
   "cell_type": "markdown",
   "metadata": {},
   "source": [
    "### Numbers"
   ]
  },
  {
   "cell_type": "code",
   "execution_count": 1,
   "metadata": {
    "collapsed": false
   },
   "outputs": [
    {
     "name": "stdout",
     "output_type": "stream",
     "text": [
      "7 14 2 1 32\n"
     ]
    }
   ],
   "source": [
    "# integers\n",
    "a, b = 2, 5\n",
    "\n",
    "c = a + b\n",
    "d = a * (b + 2)\n",
    "e = b // a # integer div\n",
    "f = b % a  # modulus, remainder\n",
    "g = a ** b # exponentiation (power)\n",
    "\n",
    "print(c, d, e, f, g)"
   ]
  },
  {
   "cell_type": "code",
   "execution_count": 2,
   "metadata": {
    "collapsed": false
   },
   "outputs": [
    {
     "name": "stdout",
     "output_type": "stream",
     "text": [
      "2.5\n"
     ]
    }
   ],
   "source": [
    "# floating point\n",
    "a, b = 2, 5\n",
    "\n",
    "print(b / a)"
   ]
  },
  {
   "cell_type": "markdown",
   "metadata": {},
   "source": [
    "### Strings"
   ]
  },
  {
   "cell_type": "code",
   "execution_count": 11,
   "metadata": {
    "collapsed": false
   },
   "outputs": [
    {
     "name": "stdout",
     "output_type": "stream",
     "text": [
      "abc\n",
      "J\n",
      "e\n",
      "e\n"
     ]
    }
   ],
   "source": [
    "# strings (`str`)\n",
    "name = 'John' + ' ' + 'Doe'\n",
    "print('a'.__add__('b').__add__('c'))\n",
    "print(name[0]) #returns string\n",
    "print(name[len(name)-1])\n",
    "print(name[-1])"
   ]
  },
  {
   "cell_type": "code",
   "execution_count": 15,
   "metadata": {
    "collapsed": false
   },
   "outputs": [
    {
     "data": {
      "text/plain": [
       "'abcdefghijklnopqrstuvwxyz'"
      ]
     },
     "execution_count": 15,
     "metadata": {},
     "output_type": "execute_result"
    }
   ],
   "source": [
    "s = 'abcdefghijklnopqrstuvwxyz'\n",
    "s[0:]"
   ]
  },
  {
   "cell_type": "code",
   "execution_count": 16,
   "metadata": {
    "collapsed": false
   },
   "outputs": [
    {
     "data": {
      "text/plain": [
       "'abcdefghijklnopqrstuvwxyz'"
      ]
     },
     "execution_count": 16,
     "metadata": {},
     "output_type": "execute_result"
    }
   ],
   "source": [
    "s[:]"
   ]
  },
  {
   "cell_type": "code",
   "execution_count": 17,
   "metadata": {
    "collapsed": false
   },
   "outputs": [
    {
     "data": {
      "text/plain": [
       "'bdfhjloqsuwy'"
      ]
     },
     "execution_count": 17,
     "metadata": {},
     "output_type": "execute_result"
    }
   ],
   "source": [
    "s[1::2] #print every other (2) char starting from nth (1) index"
   ]
  },
  {
   "cell_type": "code",
   "execution_count": 19,
   "metadata": {
    "collapsed": false
   },
   "outputs": [
    {
     "data": {
      "text/plain": [
       "'abcxyz'"
      ]
     },
     "execution_count": 19,
     "metadata": {},
     "output_type": "execute_result"
    }
   ],
   "source": [
    "s[0:3] + s[-3:]"
   ]
  },
  {
   "cell_type": "code",
   "execution_count": 20,
   "metadata": {
    "collapsed": false
   },
   "outputs": [
    {
     "data": {
      "text/plain": [
       "'a'"
      ]
     },
     "execution_count": 20,
     "metadata": {},
     "output_type": "execute_result"
    }
   ],
   "source": [
    "min(s)"
   ]
  },
  {
   "cell_type": "code",
   "execution_count": 21,
   "metadata": {
    "collapsed": false
   },
   "outputs": [
    {
     "data": {
      "text/plain": [
       "'z'"
      ]
     },
     "execution_count": 21,
     "metadata": {},
     "output_type": "execute_result"
    }
   ],
   "source": [
    "max(s)"
   ]
  },
  {
   "cell_type": "code",
   "execution_count": 22,
   "metadata": {
    "collapsed": false
   },
   "outputs": [
    {
     "data": {
      "text/plain": [
       "False"
      ]
     },
     "execution_count": 22,
     "metadata": {},
     "output_type": "execute_result"
    }
   ],
   "source": [
    "'apple' < 'aardvark'"
   ]
  },
  {
   "cell_type": "code",
   "execution_count": 23,
   "metadata": {
    "collapsed": false
   },
   "outputs": [
    {
     "data": {
      "text/plain": [
       "True"
      ]
     },
     "execution_count": 23,
     "metadata": {},
     "output_type": "execute_result"
    }
   ],
   "source": [
    "\"a\" < \"z\""
   ]
  },
  {
   "cell_type": "code",
   "execution_count": 24,
   "metadata": {
    "collapsed": false
   },
   "outputs": [
    {
     "data": {
      "text/plain": [
       "11"
      ]
     },
     "execution_count": 24,
     "metadata": {},
     "output_type": "execute_result"
    }
   ],
   "source": [
    "s.index('l')"
   ]
  },
  {
   "cell_type": "code",
   "execution_count": 25,
   "metadata": {
    "collapsed": false
   },
   "outputs": [
    {
     "ename": "ValueError",
     "evalue": "substring not found",
     "output_type": "error",
     "traceback": [
      "\u001b[0;31m---------------------------------------------------------------------------\u001b[0m",
      "\u001b[0;31mValueError\u001b[0m                                Traceback (most recent call last)",
      "\u001b[0;32m<ipython-input-25-0e300ffd14db>\u001b[0m in \u001b[0;36m<module>\u001b[0;34m()\u001b[0m\n\u001b[0;32m----> 1\u001b[0;31m \u001b[0ms\u001b[0m\u001b[1;33m.\u001b[0m\u001b[0mindex\u001b[0m\u001b[1;33m(\u001b[0m\u001b[1;34m'l'\u001b[0m\u001b[1;33m,\u001b[0m\u001b[1;36m12\u001b[0m\u001b[1;33m,\u001b[0m\u001b[1;36m19\u001b[0m\u001b[1;33m)\u001b[0m\u001b[1;33m\u001b[0m\u001b[0m\n\u001b[0m",
      "\u001b[0;31mValueError\u001b[0m: substring not found"
     ]
    }
   ],
   "source": [
    "s.index('l',12,19)"
   ]
  },
  {
   "cell_type": "code",
   "execution_count": 31,
   "metadata": {
    "collapsed": false
   },
   "outputs": [
    {
     "data": {
      "text/plain": [
       "3"
      ]
     },
     "execution_count": 31,
     "metadata": {},
     "output_type": "execute_result"
    }
   ],
   "source": [
    "ss = \"hello\"\n",
    "ss.index('l', ss.index(\"l\")+1)"
   ]
  },
  {
   "cell_type": "code",
   "execution_count": 32,
   "metadata": {
    "collapsed": false
   },
   "outputs": [
    {
     "data": {
      "text/plain": [
       "2"
      ]
     },
     "execution_count": 32,
     "metadata": {},
     "output_type": "execute_result"
    }
   ],
   "source": [
    "ss.count('l')"
   ]
  },
  {
   "cell_type": "code",
   "execution_count": 33,
   "metadata": {
    "collapsed": false
   },
   "outputs": [
    {
     "name": "stdout",
     "output_type": "stream",
     "text": [
      "h\n",
      "e\n",
      "l\n",
      "l\n",
      "o\n",
      " \n",
      "w\n",
      "o\n",
      "r\n",
      "l\n",
      "d\n"
     ]
    }
   ],
   "source": [
    "for x in 'hello world':\n",
    "    print(x)"
   ]
  },
  {
   "cell_type": "markdown",
   "metadata": {},
   "source": [
    "Strings are an example of a *sequence* type; https://docs.python.org/3.5/library/stdtypes.html#typesseq\n",
    "\n",
    "Other sequence types are: *ranges*, *tuples* (both also immutable), and *lists* (mutable).\n",
    "\n",
    "All immutable sequences support the [common sequence operations](https://docs.python.org/3/library/stdtypes.html#common-sequence-operations), and mutable sequences additionally support the [mutable sequence operations](https://docs.python.org/3/library/stdtypes.html#mutable-sequence-types)"
   ]
  },
  {
   "cell_type": "markdown",
   "metadata": {},
   "source": [
    "### Ranges & Tuples"
   ]
  },
  {
   "cell_type": "code",
   "execution_count": 34,
   "metadata": {
    "collapsed": false
   },
   "outputs": [],
   "source": [
    "# ranges\n",
    "r1 = range(10)\n",
    "r2 = range(10, 20)\n",
    "r3 = range(100, 0, -10)"
   ]
  },
  {
   "cell_type": "code",
   "execution_count": 35,
   "metadata": {
    "collapsed": false
   },
   "outputs": [
    {
     "name": "stdout",
     "output_type": "stream",
     "text": [
      "100\n",
      "90\n",
      "80\n",
      "70\n",
      "60\n",
      "50\n",
      "40\n",
      "30\n",
      "20\n",
      "10\n"
     ]
    }
   ],
   "source": [
    "for i in r3:\n",
    "    print (i)"
   ]
  },
  {
   "cell_type": "code",
   "execution_count": 36,
   "metadata": {
    "collapsed": false
   },
   "outputs": [
    {
     "name": "stdout",
     "output_type": "stream",
     "text": [
      "10\n",
      "11\n",
      "12\n",
      "13\n",
      "14\n",
      "15\n",
      "16\n",
      "17\n",
      "18\n",
      "19\n"
     ]
    }
   ],
   "source": [
    "for i in r2:\n",
    "    print(i)"
   ]
  },
  {
   "cell_type": "code",
   "execution_count": 37,
   "metadata": {
    "collapsed": false
   },
   "outputs": [
    {
     "data": {
      "text/plain": [
       "range(0, 10)"
      ]
     },
     "execution_count": 37,
     "metadata": {},
     "output_type": "execute_result"
    }
   ],
   "source": [
    "range(0,10)"
   ]
  },
  {
   "cell_type": "code",
   "execution_count": 38,
   "metadata": {
    "collapsed": false
   },
   "outputs": [
    {
     "data": {
      "text/plain": [
       "range"
      ]
     },
     "execution_count": 38,
     "metadata": {},
     "output_type": "execute_result"
    }
   ],
   "source": [
    "type(_) # _ calls output of last cell last cell"
   ]
  },
  {
   "cell_type": "code",
   "execution_count": 40,
   "metadata": {
    "collapsed": false
   },
   "outputs": [
    {
     "data": {
      "text/plain": [
       "tuple"
      ]
     },
     "execution_count": 40,
     "metadata": {},
     "output_type": "execute_result"
    }
   ],
   "source": [
    "tup = ('lions', 'tigers', 'bears', (0, 1, 2), True, False)\n",
    "type(tup)"
   ]
  },
  {
   "cell_type": "code",
   "execution_count": 41,
   "metadata": {
    "collapsed": false
   },
   "outputs": [
    {
     "data": {
      "text/plain": [
       "2"
      ]
     },
     "execution_count": 41,
     "metadata": {},
     "output_type": "execute_result"
    }
   ],
   "source": [
    "tup[3][-1]"
   ]
  },
  {
   "cell_type": "code",
   "execution_count": 43,
   "metadata": {
    "collapsed": false
   },
   "outputs": [
    {
     "data": {
      "text/plain": [
       "(0, 1, 2)"
      ]
     },
     "execution_count": 43,
     "metadata": {},
     "output_type": "execute_result"
    }
   ],
   "source": [
    "tup.__getinfrv"
   ]
  },
  {
   "cell_type": "markdown",
   "metadata": {},
   "source": [
    "### The almighty list!"
   ]
  },
  {
   "cell_type": "code",
   "execution_count": 9,
   "metadata": {
    "collapsed": false
   },
   "outputs": [
    {
     "name": "stdout",
     "output_type": "stream",
     "text": [
      "0\n",
      "1\n",
      "2\n",
      "3\n",
      "4\n",
      "5\n",
      "6\n",
      "7\n",
      "8\n",
      "9\n",
      "(1, 3)\n",
      "1\n",
      "3\n"
     ]
    }
   ],
   "source": [
    "l = list(range(10))\n",
    "for each in l: print(each)\n",
    "print(divmod(7,4))\n",
    "ls= divmod(7,4)\n",
    "for e in ls:\n",
    "    print(e)"
   ]
  },
  {
   "cell_type": "markdown",
   "metadata": {},
   "source": [
    "### List comprehensions"
   ]
  },
  {
   "cell_type": "code",
   "execution_count": 1,
   "metadata": {
    "collapsed": false
   },
   "outputs": [
    {
     "data": {
      "text/plain": [
       "[1, 2, 4, 8, 16, 32, 128, 256, 512]"
      ]
     },
     "execution_count": 1,
     "metadata": {},
     "output_type": "execute_result"
    }
   ],
   "source": [
    "l = []\n",
    "for e in range(0, 10):\n",
    "    if 2**e > 100 or 2**e < 50:\n",
    "        l.append(2**e)\n",
    "l"
   ]
  },
  {
   "cell_type": "code",
   "execution_count": 2,
   "metadata": {
    "collapsed": false
   },
   "outputs": [
    {
     "name": "stdout",
     "output_type": "stream",
     "text": [
      "0 1\n",
      "1 2\n",
      "2 4\n",
      "3 8\n",
      "4 16\n",
      "5 32\n",
      "6 64\n",
      "7 128\n",
      "8 256\n",
      "9 512\n",
      "\n",
      "\n",
      "0 1\n",
      "1 2\n",
      "2 4\n",
      "3 8\n",
      "4 16\n",
      "5 32\n",
      "6 64\n",
      "7 128\n",
      "8 256\n",
      "9 512\n"
     ]
    }
   ],
   "source": [
    "[print(e, 2**e) for e in range(0, 10)] \n",
    "print('\\n')\n",
    "for e in range(0,10): print(e,2**e)"
   ]
  },
  {
   "cell_type": "code",
   "execution_count": 4,
   "metadata": {
    "collapsed": false
   },
   "outputs": [
    {
     "data": {
      "text/plain": [
       "[(0, 5),\n",
       " (0, 6),\n",
       " (0, 7),\n",
       " (0, 8),\n",
       " (0, 9),\n",
       " (1, 5),\n",
       " (1, 6),\n",
       " (1, 7),\n",
       " (1, 8),\n",
       " (1, 9),\n",
       " (2, 5),\n",
       " (2, 6),\n",
       " (2, 7),\n",
       " (2, 8),\n",
       " (2, 9),\n",
       " (3, 5),\n",
       " (3, 6),\n",
       " (3, 7),\n",
       " (3, 8),\n",
       " (3, 9),\n",
       " (4, 5),\n",
       " (4, 6),\n",
       " (4, 7),\n",
       " (4, 8),\n",
       " (4, 9)]"
      ]
     },
     "execution_count": 4,
     "metadata": {},
     "output_type": "execute_result"
    }
   ],
   "source": [
    "[(i, j) for i in range(5) \n",
    "        for j in range(5, 10)]"
   ]
  },
  {
   "cell_type": "code",
   "execution_count": null,
   "metadata": {
    "collapsed": false
   },
   "outputs": [],
   "source": [
    "from random import random\n",
    "[random() for _ in range(10)]"
   ]
  },
  {
   "cell_type": "code",
   "execution_count": null,
   "metadata": {
    "collapsed": false
   },
   "outputs": [],
   "source": [
    "[random()] * 10"
   ]
  },
  {
   "cell_type": "markdown",
   "metadata": {},
   "source": [
    "### Dictionaries"
   ]
  },
  {
   "cell_type": "code",
   "execution_count": 8,
   "metadata": {
    "collapsed": false
   },
   "outputs": [],
   "source": [
    "d = dict()"
   ]
  },
  {
   "cell_type": "code",
   "execution_count": 10,
   "metadata": {
    "collapsed": true
   },
   "outputs": [],
   "source": [
    "d = {}"
   ]
  },
  {
   "cell_type": "code",
   "execution_count": 14,
   "metadata": {
    "collapsed": false
   },
   "outputs": [
    {
     "data": {
      "text/plain": [
       "{1: 3,\n",
       " 2: (2, 4),\n",
       " 3: (3, 6),\n",
       " 4: (4, 8),\n",
       " 5: (5, 10),\n",
       " 6: (6, 12),\n",
       " 7: (7, 14),\n",
       " 8: (8, 16),\n",
       " 9: (9, 18)}"
      ]
     },
     "execution_count": 14,
     "metadata": {},
     "output_type": "execute_result"
    }
   ],
   "source": [
    "for i in range(1,10):\n",
    "    d[i] = (i, i*2)\n",
    "d[1] = 3\n",
    "d"
   ]
  },
  {
   "cell_type": "raw",
   "metadata": {},
   "source": []
  },
  {
   "cell_type": "code",
   "execution_count": 27,
   "metadata": {
    "collapsed": false
   },
   "outputs": [
    {
     "data": {
      "text/plain": [
       "{'batman': 'bruce', 'superman': 'clark'}"
      ]
     },
     "execution_count": 27,
     "metadata": {},
     "output_type": "execute_result"
    }
   ],
   "source": [
    "alter_egos = {}\n",
    "alter_egos['batman'] = 'bruce'\n",
    "alter_egos['superman'] = 'clark'\n",
    "alter_egos"
   ]
  },
  {
   "cell_type": "code",
   "execution_count": 1,
   "metadata": {
    "collapsed": false
   },
   "outputs": [
    {
     "data": {
      "text/plain": [
       "[0, 2, 4, 6, 8, 10, 12, 14, 16, 18]"
      ]
     },
     "execution_count": 1,
     "metadata": {},
     "output_type": "execute_result"
    }
   ],
   "source": [
    "[2*x for x in range(0,10)]"
   ]
  },
  {
   "cell_type": "code",
   "execution_count": 4,
   "metadata": {
    "collapsed": false
   },
   "outputs": [
    {
     "data": {
      "text/plain": [
       "{0: (0, 0),\n",
       " 1: (1, 2),\n",
       " 2: (2, 4),\n",
       " 3: (3, 6),\n",
       " 4: (4, 8),\n",
       " 5: (5, 10),\n",
       " 6: (6, 12),\n",
       " 7: (7, 14),\n",
       " 8: (8, 16),\n",
       " 9: (9, 18)}"
      ]
     },
     "execution_count": 4,
     "metadata": {},
     "output_type": "execute_result"
    }
   ],
   "source": [
    "test = {i: (i,i*2) for i in range(0,10)}\n",
    "test"
   ]
  },
  {
   "cell_type": "code",
   "execution_count": 7,
   "metadata": {
    "collapsed": false
   },
   "outputs": [
    {
     "data": {
      "text/plain": [
       "{0: (0, 0),\n",
       " 1: (1, 2),\n",
       " 2: (2, 4),\n",
       " 3: (3, 6),\n",
       " 4: (4, 8),\n",
       " 5: (5, 10),\n",
       " 6: (6, 12),\n",
       " 7: (7, 14),\n",
       " 8: (8, 16),\n",
       " 9: 'eighteen'}"
      ]
     },
     "execution_count": 7,
     "metadata": {},
     "output_type": "execute_result"
    }
   ],
   "source": [
    "test[9]= 'eighteen'\n",
    "test"
   ]
  },
  {
   "cell_type": "code",
   "execution_count": 13,
   "metadata": {
    "collapsed": false
   },
   "outputs": [
    {
     "data": {
      "text/plain": [
       "{0: (0, 0),\n",
       " 1: (1, 2),\n",
       " 2: (2, 4),\n",
       " 3: (3, 6),\n",
       " 4: (4, 8),\n",
       " 5: (5, 10),\n",
       " 6: (6, 12),\n",
       " 7: (7, 14),\n",
       " 8: (8, 16),\n",
       " 9: 'eighteen',\n",
       " 10: 'batman',\n",
       " 22: 'tester'}"
      ]
     },
     "execution_count": 13,
     "metadata": {},
     "output_type": "execute_result"
    }
   ],
   "source": [
    "test[10] = 'batman'\n",
    "test[22] = 'tester'\n",
    "test"
   ]
  },
  {
   "cell_type": "code",
   "execution_count": 26,
   "metadata": {
    "collapsed": false
   },
   "outputs": [
    {
     "name": "stdout",
     "output_type": "stream",
     "text": [
      "0  values:  (0, 0)\n",
      "1  values:  (1, 2)\n",
      "2  values:  (2, 4)\n",
      "3  values:  (3, 6)\n",
      "4  values:  (4, 8)\n",
      "5  values:  (5, 10)\n",
      "6  values:  (6, 12)\n",
      "7  values:  (7, 14)\n",
      "8  values:  (8, 16)\n",
      "9  values:  eighteen\n",
      "10  values:  batman\n",
      "22  values:  tester\n"
     ]
    }
   ],
   "source": [
    "for x in test:\n",
    "    print(x,\" values: \",test[x])"
   ]
  },
  {
   "cell_type": "code",
   "execution_count": 33,
   "metadata": {
    "collapsed": false
   },
   "outputs": [
    {
     "name": "stdout",
     "output_type": "stream",
     "text": [
      "(1, 2, 3)\n"
     ]
    }
   ],
   "source": [
    "xb = dict()\n",
    "xb[\"bbb\"] = (1,2,3)\n",
    "print(xb[\"bbb\"])"
   ]
  },
  {
   "cell_type": "code",
   "execution_count": 46,
   "metadata": {
    "collapsed": false
   },
   "outputs": [
    {
     "name": "stdout",
     "output_type": "stream",
     "text": [
      "10 20 [30, 35, 40]\n"
     ]
    }
   ],
   "source": [
    "k,v,*c = (10,20,30,35,40)\n",
    "print(k, v,c)"
   ]
  },
  {
   "cell_type": "code",
   "execution_count": 51,
   "metadata": {
    "collapsed": false
   },
   "outputs": [
    {
     "name": "stdout",
     "output_type": "stream",
     "text": [
      "1 2 3 4 (1,)\n"
     ]
    }
   ],
   "source": [
    "a,b,d,e = (1,2,3,4)\n",
    "aa = 1,\n",
    "print(a,b,d,e,  aa)"
   ]
  },
  {
   "cell_type": "code",
   "execution_count": 56,
   "metadata": {
    "collapsed": false
   },
   "outputs": [
    {
     "name": "stdout",
     "output_type": "stream",
     "text": [
      "key: 0  value:  (0, 0)\n",
      "key: 1  value:  (1, 2)\n",
      "key: 2  value:  (2, 4)\n",
      "key: 3  value:  (3, 6)\n",
      "key: 4  value:  (4, 8)\n",
      "key: 5  value:  (5, 10)\n",
      "key: 6  value:  (6, 12)\n",
      "key: 7  value:  (7, 14)\n",
      "key: 8  value:  (8, 16)\n",
      "key: 9  value:  eighteen\n",
      "key: 10  value:  batman\n",
      "key: 22  value:  tester\n"
     ]
    }
   ],
   "source": [
    "for x,y in test.items():\n",
    "    print('key:', x,\" value: \",y)"
   ]
  },
  {
   "cell_type": "code",
   "execution_count": 86,
   "metadata": {
    "collapsed": true
   },
   "outputs": [],
   "source": [
    "pp_url = \"http://www.gutenberg.org/files/16/16-0.txt\"\n",
    "import urllib.request\n",
    "req = urllib.request.urlopen(pp_url)"
   ]
  },
  {
   "cell_type": "code",
   "execution_count": 87,
   "metadata": {
    "collapsed": false
   },
   "outputs": [],
   "source": [
    "pp_text = req.read().decode()"
   ]
  },
  {
   "cell_type": "code",
   "execution_count": 88,
   "metadata": {
    "collapsed": false
   },
   "outputs": [
    {
     "data": {
      "text/plain": [
       "284843"
      ]
     },
     "execution_count": 88,
     "metadata": {},
     "output_type": "execute_result"
    }
   ],
   "source": [
    "len(pp_text)"
   ]
  },
  {
   "cell_type": "code",
   "execution_count": 89,
   "metadata": {
    "collapsed": false
   },
   "outputs": [],
   "source": [
    "pp_words = pp_text.split()"
   ]
  },
  {
   "cell_type": "code",
   "execution_count": 90,
   "metadata": {
    "collapsed": false
   },
   "outputs": [
    {
     "data": {
      "text/plain": [
       "50765"
      ]
     },
     "execution_count": 90,
     "metadata": {},
     "output_type": "execute_result"
    }
   ],
   "source": [
    "len(pp_words)"
   ]
  },
  {
   "cell_type": "code",
   "execution_count": 91,
   "metadata": {
    "collapsed": false
   },
   "outputs": [
    {
     "data": {
      "text/plain": [
       "238"
      ]
     },
     "execution_count": 91,
     "metadata": {},
     "output_type": "execute_result"
    }
   ],
   "source": [
    "pp_words.count(\"Peter\")"
   ]
  },
  {
   "cell_type": "code",
   "execution_count": 92,
   "metadata": {
    "collapsed": false
   },
   "outputs": [
    {
     "data": {
      "text/plain": [
       "5"
      ]
     },
     "execution_count": 92,
     "metadata": {},
     "output_type": "execute_result"
    }
   ],
   "source": [
    "pp_words.index(\"Peter\")"
   ]
  },
  {
   "cell_type": "code",
   "execution_count": 96,
   "metadata": {
    "collapsed": false
   },
   "outputs": [],
   "source": [
    "pp_words_counts = {}\n",
    "for w in pp_words:\n",
    "    if w in pp_words_counts:\n",
    "        pp_words_counts[w] += 1\n",
    "    else:\n",
    "        pp_words_counts[w] = 1"
   ]
  },
  {
   "cell_type": "code",
   "execution_count": 97,
   "metadata": {
    "collapsed": false
   },
   "outputs": [
    {
     "data": {
      "text/plain": [
       "{'\\ufeffThe': 1,\n",
       " 'Project': 79,\n",
       " 'Gutenberg': 22,\n",
       " 'EBook': 2,\n",
       " 'of': 929,\n",
       " 'Peter': 238,\n",
       " 'Pan,': 4,\n",
       " 'by': 175,\n",
       " 'James': 8,\n",
       " 'M.': 4,\n",
       " 'Barrie': 4,\n",
       " 'This': 32,\n",
       " 'eBook': 9,\n",
       " 'is': 350,\n",
       " 'for': 377,\n",
       " 'the': 2331,\n",
       " 'use': 19,\n",
       " 'anyone': 4,\n",
       " 'anywhere': 2,\n",
       " 'at': 322,\n",
       " 'no': 136,\n",
       " 'cost': 2,\n",
       " 'and': 1396,\n",
       " 'with': 361,\n",
       " 'almost': 36,\n",
       " 'restrictions': 2,\n",
       " 'whatsoever.': 2,\n",
       " 'You': 36,\n",
       " 'may': 49,\n",
       " 'copy': 8,\n",
       " 'it,': 63,\n",
       " 'give': 26,\n",
       " 'it': 473,\n",
       " 'away': 29,\n",
       " 'or': 133,\n",
       " 're-use': 2,\n",
       " 'under': 28,\n",
       " 'terms': 21,\n",
       " 'License': 8,\n",
       " 'included': 3,\n",
       " 'this': 195,\n",
       " 'online': 4,\n",
       " 'www.gutenberg.org': 2,\n",
       " '**': 4,\n",
       " 'a': 962,\n",
       " 'COPYRIGHTED': 1,\n",
       " 'eBook,': 2,\n",
       " 'Details': 1,\n",
       " 'Below': 1,\n",
       " 'Please': 2,\n",
       " 'follow': 8,\n",
       " 'copyright': 16,\n",
       " 'guidelines': 1,\n",
       " 'in': 683,\n",
       " 'file.': 1,\n",
       " 'Title:': 1,\n",
       " 'Pan': 13,\n",
       " 'Wendy': 200,\n",
       " 'Author:': 1,\n",
       " 'Posting': 1,\n",
       " 'Date:': 2,\n",
       " 'June': 1,\n",
       " '25,': 1,\n",
       " '2008': 1,\n",
       " '[EBook': 1,\n",
       " '#16]': 1,\n",
       " 'Release': 1,\n",
       " 'July,': 1,\n",
       " '1991': 1,\n",
       " 'Last': 2,\n",
       " 'Updated:': 1,\n",
       " 'October': 1,\n",
       " '14,': 1,\n",
       " '2016': 1,\n",
       " 'Language:': 1,\n",
       " 'English': 4,\n",
       " 'Character': 1,\n",
       " 'set': 16,\n",
       " 'encoding:': 1,\n",
       " 'UTF-8': 1,\n",
       " '***': 8,\n",
       " 'START': 1,\n",
       " 'OF': 10,\n",
       " 'THIS': 7,\n",
       " 'PROJECT': 4,\n",
       " 'GUTENBERG': 3,\n",
       " 'EBOOK': 2,\n",
       " 'PETER': 5,\n",
       " 'PAN': 3,\n",
       " '[PETER': 1,\n",
       " 'AND': 2,\n",
       " 'WENDY]': 1,\n",
       " 'By': 12,\n",
       " 'J.': 1,\n",
       " '[James': 1,\n",
       " 'Matthew': 1,\n",
       " 'Barrie]': 1,\n",
       " 'A': 19,\n",
       " 'Millennium': 1,\n",
       " 'Fulcrum': 1,\n",
       " 'Edition': 1,\n",
       " '(c)1991': 1,\n",
       " 'Duncan': 1,\n",
       " 'Research': 1,\n",
       " 'Contents:': 1,\n",
       " 'Chapter': 34,\n",
       " '1': 2,\n",
       " 'BREAKS': 2,\n",
       " 'THROUGH': 2,\n",
       " '2': 2,\n",
       " 'THE': 29,\n",
       " 'SHADOW': 2,\n",
       " '3': 4,\n",
       " 'COME': 6,\n",
       " 'AWAY,': 2,\n",
       " 'AWAY!': 2,\n",
       " '4': 3,\n",
       " 'FLIGHT': 2,\n",
       " '5': 2,\n",
       " 'ISLAND': 2,\n",
       " 'TRUE': 2,\n",
       " '6': 2,\n",
       " 'LITTLE': 2,\n",
       " 'HOUSE': 2,\n",
       " '7': 2,\n",
       " 'HOME': 6,\n",
       " 'UNDER': 3,\n",
       " 'GROUND': 2,\n",
       " '8': 2,\n",
       " 'MERMAID’S': 1,\n",
       " 'LAGOON': 2,\n",
       " '9': 2,\n",
       " 'NEVER': 2,\n",
       " 'BIRD': 2,\n",
       " '10': 2,\n",
       " 'HAPPY': 2,\n",
       " '11': 2,\n",
       " 'WENDY’S': 2,\n",
       " 'STORY': 2,\n",
       " '12': 2,\n",
       " 'CHILDREN': 2,\n",
       " 'ARE': 2,\n",
       " 'CARRIED': 2,\n",
       " 'OFF': 2,\n",
       " '13': 2,\n",
       " 'DO': 2,\n",
       " 'YOU': 8,\n",
       " 'BELIEVE': 2,\n",
       " 'IN': 3,\n",
       " 'FAIRIES?': 2,\n",
       " '14': 4,\n",
       " 'PIRATE': 2,\n",
       " 'SHIP': 2,\n",
       " '15': 2,\n",
       " '“HOOK': 2,\n",
       " 'OR': 8,\n",
       " 'ME': 2,\n",
       " 'TIME”': 2,\n",
       " '16': 2,\n",
       " 'RETURN': 2,\n",
       " '17': 2,\n",
       " 'WHEN': 2,\n",
       " 'WENDY': 2,\n",
       " 'GREW': 2,\n",
       " 'UP': 2,\n",
       " 'All': 17,\n",
       " 'children,': 6,\n",
       " 'except': 19,\n",
       " 'one,': 15,\n",
       " 'grow': 8,\n",
       " 'up.': 14,\n",
       " 'They': 102,\n",
       " 'soon': 26,\n",
       " 'know': 65,\n",
       " 'that': 564,\n",
       " 'they': 465,\n",
       " 'will': 84,\n",
       " 'up,': 18,\n",
       " 'way': 60,\n",
       " 'knew': 63,\n",
       " 'was': 898,\n",
       " 'this.': 6,\n",
       " 'One': 9,\n",
       " 'day': 11,\n",
       " 'when': 152,\n",
       " 'she': 465,\n",
       " 'two': 36,\n",
       " 'years': 3,\n",
       " 'old': 25,\n",
       " 'playing': 10,\n",
       " 'garden,': 1,\n",
       " 'plucked': 2,\n",
       " 'another': 24,\n",
       " 'flower': 2,\n",
       " 'ran': 17,\n",
       " 'to': 1214,\n",
       " 'her': 361,\n",
       " 'mother.': 9,\n",
       " 'I': 253,\n",
       " 'suppose': 7,\n",
       " 'must': 68,\n",
       " 'have': 247,\n",
       " 'looked': 33,\n",
       " 'rather': 41,\n",
       " 'delightful,': 1,\n",
       " 'Mrs.': 72,\n",
       " 'Darling': 93,\n",
       " 'put': 40,\n",
       " 'hand': 32,\n",
       " 'heart': 13,\n",
       " 'cried,': 42,\n",
       " '“Oh,': 24,\n",
       " 'why': 13,\n",
       " 'can’t': 24,\n",
       " 'you': 403,\n",
       " 'remain': 5,\n",
       " 'like': 86,\n",
       " 'ever!”': 1,\n",
       " 'all': 221,\n",
       " 'passed': 12,\n",
       " 'between': 13,\n",
       " 'them': 165,\n",
       " 'on': 329,\n",
       " 'subject,': 2,\n",
       " 'but': 378,\n",
       " 'henceforth': 2,\n",
       " 'always': 50,\n",
       " 'after': 45,\n",
       " 'are': 188,\n",
       " 'two.': 3,\n",
       " 'Two': 2,\n",
       " 'beginning': 8,\n",
       " 'end.': 3,\n",
       " 'Of': 37,\n",
       " 'course': 55,\n",
       " 'lived': 6,\n",
       " '[their': 1,\n",
       " 'house': 25,\n",
       " 'number': 7,\n",
       " 'their': 215,\n",
       " 'street],': 1,\n",
       " 'until': 21,\n",
       " 'came': 71,\n",
       " 'mother': 33,\n",
       " 'chief': 3,\n",
       " 'one.': 11,\n",
       " 'She': 109,\n",
       " 'lovely': 14,\n",
       " 'lady,': 7,\n",
       " 'romantic': 4,\n",
       " 'mind': 11,\n",
       " 'such': 60,\n",
       " 'sweet': 7,\n",
       " 'mocking': 4,\n",
       " 'mouth.': 5,\n",
       " 'Her': 10,\n",
       " 'tiny': 5,\n",
       " 'boxes,': 1,\n",
       " 'one': 170,\n",
       " 'within': 11,\n",
       " 'other,': 5,\n",
       " 'come': 50,\n",
       " 'from': 145,\n",
       " 'puzzling': 2,\n",
       " 'East,': 1,\n",
       " 'however': 3,\n",
       " 'many': 25,\n",
       " 'discover': 4,\n",
       " 'there': 111,\n",
       " 'more;': 2,\n",
       " 'mouth': 15,\n",
       " 'had': 498,\n",
       " 'kiss': 8,\n",
       " 'could': 139,\n",
       " 'never': 65,\n",
       " 'get,': 1,\n",
       " 'though': 46,\n",
       " 'was,': 14,\n",
       " 'perfectly': 6,\n",
       " 'conspicuous': 1,\n",
       " 'right-hand': 2,\n",
       " 'corner.': 2,\n",
       " 'The': 150,\n",
       " 'Mr.': 46,\n",
       " 'won': 1,\n",
       " 'this:': 2,\n",
       " 'gentlemen': 3,\n",
       " 'who': 134,\n",
       " 'been': 135,\n",
       " 'boys': 61,\n",
       " 'girl': 10,\n",
       " 'discovered': 7,\n",
       " 'simultaneously': 2,\n",
       " 'loved': 13,\n",
       " 'her,': 37,\n",
       " 'propose': 1,\n",
       " 'Darling,': 10,\n",
       " 'took': 24,\n",
       " 'cab': 2,\n",
       " 'nipped': 2,\n",
       " 'first,': 7,\n",
       " 'so': 197,\n",
       " 'he': 866,\n",
       " 'got': 33,\n",
       " 'her.': 41,\n",
       " 'He': 163,\n",
       " 'innermost': 1,\n",
       " 'box': 2,\n",
       " 'kiss.': 3,\n",
       " 'about': 106,\n",
       " 'box,': 2,\n",
       " 'time': 81,\n",
       " 'gave': 36,\n",
       " 'up': 113,\n",
       " 'trying': 10,\n",
       " 'thought': 69,\n",
       " 'Napoleon': 1,\n",
       " 'can': 50,\n",
       " 'picture': 1,\n",
       " 'him': 186,\n",
       " 'trying,': 2,\n",
       " 'then': 67,\n",
       " 'going': 31,\n",
       " 'off': 31,\n",
       " 'passion,': 1,\n",
       " 'slamming': 1,\n",
       " 'door.': 4,\n",
       " 'used': 17,\n",
       " 'boast': 2,\n",
       " 'not': 375,\n",
       " 'only': 84,\n",
       " 'respected': 1,\n",
       " 'him.': 66,\n",
       " 'those': 17,\n",
       " 'deep': 2,\n",
       " 'ones': 13,\n",
       " 'stocks': 3,\n",
       " 'shares.': 1,\n",
       " 'really': 44,\n",
       " 'knows,': 1,\n",
       " 'quite': 62,\n",
       " 'seemed': 23,\n",
       " 'know,': 11,\n",
       " 'often': 18,\n",
       " 'said': 218,\n",
       " 'were': 243,\n",
       " 'shares': 1,\n",
       " 'down': 51,\n",
       " 'would': 211,\n",
       " 'made': 49,\n",
       " 'any': 68,\n",
       " 'woman': 7,\n",
       " 'respect': 3,\n",
       " 'married': 6,\n",
       " 'white,': 3,\n",
       " 'first': 64,\n",
       " 'kept': 12,\n",
       " 'books': 1,\n",
       " 'perfectly,': 1,\n",
       " 'gleefully,': 3,\n",
       " 'as': 315,\n",
       " 'if': 125,\n",
       " 'game,': 3,\n",
       " 'much': 30,\n",
       " 'Brussels': 1,\n",
       " 'sprout': 1,\n",
       " 'missing;': 1,\n",
       " 'whole': 14,\n",
       " 'cauliflowers': 1,\n",
       " 'dropped': 12,\n",
       " 'out,': 15,\n",
       " 'instead': 13,\n",
       " 'pictures': 1,\n",
       " 'babies': 4,\n",
       " 'without': 41,\n",
       " 'faces.': 1,\n",
       " 'drew': 11,\n",
       " 'should': 47,\n",
       " 'totting': 2,\n",
       " 'Darling’s': 7,\n",
       " 'guesses.': 2,\n",
       " 'John,': 21,\n",
       " 'Michael.': 6,\n",
       " 'For': 28,\n",
       " 'week': 6,\n",
       " 'doubtful': 2,\n",
       " 'whether': 18,\n",
       " 'be': 249,\n",
       " 'able': 10,\n",
       " 'keep': 14,\n",
       " 'feed.': 1,\n",
       " 'frightfully': 10,\n",
       " 'proud': 7,\n",
       " 'very': 64,\n",
       " 'honourable,': 1,\n",
       " 'sat': 34,\n",
       " 'edge': 3,\n",
       " 'bed,': 11,\n",
       " 'holding': 5,\n",
       " 'calculating': 1,\n",
       " 'expenses,': 3,\n",
       " 'while': 25,\n",
       " 'imploringly.': 2,\n",
       " 'wanted': 14,\n",
       " 'risk': 1,\n",
       " 'what': 105,\n",
       " 'might,': 1,\n",
       " 'his': 455,\n",
       " 'way;': 1,\n",
       " 'pencil': 1,\n",
       " 'piece': 4,\n",
       " 'paper,': 2,\n",
       " 'confused': 2,\n",
       " 'suggestions': 1,\n",
       " 'begin': 1,\n",
       " 'again.': 22,\n",
       " '“Now': 8,\n",
       " 'don’t': 54,\n",
       " 'interrupt,”': 1,\n",
       " 'beg': 2,\n",
       " '“I': 159,\n",
       " 'pound': 2,\n",
       " 'seventeen': 1,\n",
       " 'here,': 6,\n",
       " 'six': 9,\n",
       " 'office;': 1,\n",
       " 'cut': 13,\n",
       " 'my': 69,\n",
       " 'coffee': 1,\n",
       " 'office,': 3,\n",
       " 'say': 36,\n",
       " 'ten': 8,\n",
       " 'shillings,': 1,\n",
       " 'making': 10,\n",
       " 'nine': 13,\n",
       " 'six,': 2,\n",
       " 'your': 80,\n",
       " 'eighteen': 1,\n",
       " 'three': 24,\n",
       " 'makes': 7,\n",
       " 'seven,': 2,\n",
       " 'five': 3,\n",
       " 'naught': 2,\n",
       " 'cheque-book': 3,\n",
       " 'eight': 3,\n",
       " 'seven--who': 1,\n",
       " 'moving?--eight': 1,\n",
       " 'dot': 1,\n",
       " 'carry': 10,\n",
       " 'seven--don’t': 1,\n",
       " 'speak,': 2,\n",
       " 'own--and': 1,\n",
       " 'lent': 1,\n",
       " 'man': 33,\n",
       " 'door--quiet,': 1,\n",
       " 'child--dot': 1,\n",
       " 'child--there,': 1,\n",
       " 'you’ve': 1,\n",
       " 'done': 10,\n",
       " 'it!--did': 1,\n",
       " 'seven?': 1,\n",
       " 'yes,': 5,\n",
       " 'seven;': 1,\n",
       " 'question': 7,\n",
       " 'is,': 6,\n",
       " 'we': 138,\n",
       " 'try': 2,\n",
       " 'year': 6,\n",
       " 'seven?”': 1,\n",
       " '“Of': 8,\n",
       " 'can,': 1,\n",
       " 'George,”': 5,\n",
       " 'cried.': 18,\n",
       " 'But': 65,\n",
       " 'prejudiced': 2,\n",
       " 'Wendy’s': 26,\n",
       " 'favour,': 1,\n",
       " 'grander': 1,\n",
       " 'character': 2,\n",
       " '“Remember': 1,\n",
       " 'mumps,”': 1,\n",
       " 'warned': 3,\n",
       " 'threateningly,': 1,\n",
       " 'went': 48,\n",
       " '“Mumps': 1,\n",
       " 'pound,': 1,\n",
       " 'down,': 7,\n",
       " 'daresay': 2,\n",
       " 'more': 62,\n",
       " 'thirty': 3,\n",
       " 'shillings--don’t': 1,\n",
       " 'speak--measles': 1,\n",
       " 'five,': 1,\n",
       " 'German': 1,\n",
       " 'measles': 2,\n",
       " 'half': 8,\n",
       " 'guinea,': 1,\n",
       " 'fifteen': 2,\n",
       " 'six--don’t': 1,\n",
       " 'waggle': 1,\n",
       " 'finger--whooping-cough,': 1,\n",
       " 'shillings”--and': 1,\n",
       " 'went,': 5,\n",
       " 'added': 5,\n",
       " 'differently': 1,\n",
       " 'each': 31,\n",
       " 'time;': 6,\n",
       " 'last': 49,\n",
       " 'just': 74,\n",
       " 'through,': 3,\n",
       " 'mumps': 1,\n",
       " 'reduced': 1,\n",
       " 'twelve': 1,\n",
       " 'kinds': 1,\n",
       " 'treated': 7,\n",
       " 'There': 43,\n",
       " 'same': 22,\n",
       " 'excitement': 1,\n",
       " 'over': 57,\n",
       " 'Michael': 69,\n",
       " 'even': 42,\n",
       " 'narrower': 1,\n",
       " 'squeak;': 1,\n",
       " 'both': 17,\n",
       " 'kept,': 1,\n",
       " 'soon,': 2,\n",
       " 'might': 28,\n",
       " 'seen': 20,\n",
       " 'row': 4,\n",
       " 'Miss': 2,\n",
       " 'Fulsom’s': 2,\n",
       " 'Kindergarten': 1,\n",
       " 'school,': 3,\n",
       " 'accompanied': 4,\n",
       " 'nurse.': 4,\n",
       " 'everything': 6,\n",
       " 'so,': 9,\n",
       " 'passion': 2,\n",
       " 'being': 26,\n",
       " 'exactly': 13,\n",
       " 'neighbours;': 1,\n",
       " 'course,': 12,\n",
       " 'As': 24,\n",
       " 'poor,': 1,\n",
       " 'owing': 4,\n",
       " 'amount': 1,\n",
       " 'milk': 2,\n",
       " 'children': 75,\n",
       " 'drank,': 1,\n",
       " 'nurse': 5,\n",
       " 'prim': 1,\n",
       " 'Newfoundland': 1,\n",
       " 'dog,': 2,\n",
       " 'called': 31,\n",
       " 'Nana,': 9,\n",
       " 'belonged': 1,\n",
       " 'particular': 7,\n",
       " 'Darlings': 2,\n",
       " 'engaged': 1,\n",
       " 'important,': 1,\n",
       " 'however,': 17,\n",
       " 'become': 9,\n",
       " 'acquainted': 1,\n",
       " 'Kensington': 3,\n",
       " 'Gardens,': 1,\n",
       " 'where': 42,\n",
       " 'spent': 3,\n",
       " 'most': 40,\n",
       " 'spare': 1,\n",
       " 'peeping': 6,\n",
       " 'into': 101,\n",
       " 'perambulators,': 1,\n",
       " 'hated': 5,\n",
       " 'careless': 5,\n",
       " 'nursemaids,': 1,\n",
       " 'whom': 11,\n",
       " 'followed': 14,\n",
       " 'homes': 1,\n",
       " 'complained': 1,\n",
       " 'mistresses.': 1,\n",
       " 'proved': 2,\n",
       " 'treasure': 1,\n",
       " 'How': 10,\n",
       " 'thorough': 1,\n",
       " 'bath-time,': 2,\n",
       " 'moment': 48,\n",
       " 'night': 37,\n",
       " 'charges': 2,\n",
       " 'slightest': 3,\n",
       " 'cry.': 5,\n",
       " 'kennel': 6,\n",
       " 'nursery.': 4,\n",
       " 'genius': 3,\n",
       " 'knowing': 7,\n",
       " 'cough': 1,\n",
       " 'thing': 33,\n",
       " 'patience': 1,\n",
       " 'needs': 1,\n",
       " 'stocking': 2,\n",
       " 'around': 17,\n",
       " 'throat.': 1,\n",
       " 'believed': 7,\n",
       " 'old-fashioned': 1,\n",
       " 'remedies': 1,\n",
       " 'rhubarb': 1,\n",
       " 'leaf,': 2,\n",
       " 'sounds': 3,\n",
       " 'contempt': 3,\n",
       " 'new-fangled': 1,\n",
       " 'talk': 6,\n",
       " 'germs,': 1,\n",
       " 'on.': 11,\n",
       " 'It': 121,\n",
       " 'lesson': 2,\n",
       " 'propriety': 1,\n",
       " 'see': 85,\n",
       " 'escorting': 1,\n",
       " 'walking': 3,\n",
       " 'sedately': 1,\n",
       " 'side': 12,\n",
       " 'well': 24,\n",
       " 'behaved,': 1,\n",
       " 'butting': 1,\n",
       " 'back': 31,\n",
       " 'line': 4,\n",
       " 'strayed.': 1,\n",
       " 'On': 12,\n",
       " 'John’s': 5,\n",
       " 'footer': 1,\n",
       " '[in': 1,\n",
       " 'England': 1,\n",
       " 'soccer': 1,\n",
       " 'football,': 1,\n",
       " '“footer”': 1,\n",
       " 'short]': 1,\n",
       " 'days': 18,\n",
       " 'once': 40,\n",
       " 'forgot': 9,\n",
       " 'sweater,': 1,\n",
       " 'usually': 3,\n",
       " 'carried': 11,\n",
       " 'an': 102,\n",
       " 'umbrella': 1,\n",
       " 'case': 2,\n",
       " 'rain.': 1,\n",
       " 'room': 20,\n",
       " 'basement': 1,\n",
       " 'school': 5,\n",
       " 'nurses': 1,\n",
       " 'wait.': 3,\n",
       " 'forms,': 1,\n",
       " 'Nana': 34,\n",
       " 'lay': 17,\n",
       " 'floor,': 7,\n",
       " 'difference.': 1,\n",
       " 'affected': 2,\n",
       " 'ignore': 1,\n",
       " 'inferior': 3,\n",
       " 'social': 2,\n",
       " 'status': 5,\n",
       " 'themselves,': 7,\n",
       " 'despised': 3,\n",
       " 'light': 26,\n",
       " 'talk.': 1,\n",
       " 'resented': 2,\n",
       " 'visits': 1,\n",
       " 'nursery': 23,\n",
       " 'friends,': 3,\n",
       " 'did': 115,\n",
       " 'whipped': 4,\n",
       " 'Michael’s': 7,\n",
       " 'pinafore': 1,\n",
       " 'blue': 4,\n",
       " 'braiding,': 1,\n",
       " 'smoothed': 1,\n",
       " 'out': 115,\n",
       " 'dash': 1,\n",
       " 'hair.': 2,\n",
       " 'No': 12,\n",
       " 'possibly': 2,\n",
       " 'conducted': 2,\n",
       " 'correctly,': 1,\n",
       " 'yet': 14,\n",
       " 'sometimes': 22,\n",
       " 'wondered': 2,\n",
       " 'uneasily': 1,\n",
       " 'neighbours': 1,\n",
       " 'talked.': 1,\n",
       " 'position': 3,\n",
       " 'city': 1,\n",
       " 'consider.': 1,\n",
       " 'also': 18,\n",
       " 'troubled': 4,\n",
       " 'way.': 10,\n",
       " 'feeling': 15,\n",
       " 'admire': 2,\n",
       " 'admires': 1,\n",
       " 'tremendously,': 2,\n",
       " 'assure': 1,\n",
       " 'him,': 53,\n",
       " 'sign': 3,\n",
       " 'specially': 4,\n",
       " 'nice': 12,\n",
       " 'father.': 2,\n",
       " 'Lovely': 1,\n",
       " 'dances': 2,\n",
       " 'followed,': 1,\n",
       " 'which': 122,\n",
       " 'other': 69,\n",
       " 'servant,': 1,\n",
       " 'Liza,': 2,\n",
       " 'allowed': 5,\n",
       " 'join.': 1,\n",
       " 'Such': 4,\n",
       " 'midget': 1,\n",
       " 'long': 50,\n",
       " 'skirt': 1,\n",
       " 'maid’s': 1,\n",
       " 'cap,': 1,\n",
       " 'sworn,': 1,\n",
       " 'engaged,': 1,\n",
       " 'gaiety': 2,\n",
       " 'romps!': 1,\n",
       " 'And': 27,\n",
       " 'gayest': 1,\n",
       " 'pirouette': 1,\n",
       " 'wildly': 3,\n",
       " 'kiss,': 3,\n",
       " 'dashed': 2,\n",
       " 'it.': 56,\n",
       " 'simpler': 1,\n",
       " 'happier': 1,\n",
       " 'family': 3,\n",
       " 'coming': 9,\n",
       " 'Pan.': 5,\n",
       " 'heard': 43,\n",
       " 'tidying': 2,\n",
       " 'children’s': 4,\n",
       " 'minds.': 1,\n",
       " 'nightly': 1,\n",
       " 'custom': 3,\n",
       " 'every': 39,\n",
       " 'good': 25,\n",
       " 'asleep': 9,\n",
       " 'rummage': 1,\n",
       " 'minds': 4,\n",
       " 'things': 29,\n",
       " 'straight': 7,\n",
       " 'next': 10,\n",
       " 'morning,': 3,\n",
       " 'repacking': 1,\n",
       " 'proper': 4,\n",
       " 'places': 2,\n",
       " 'articles': 1,\n",
       " 'wandered': 2,\n",
       " 'during': 2,\n",
       " 'day.': 1,\n",
       " 'If': 33,\n",
       " 'awake': 4,\n",
       " '(but': 2,\n",
       " 'can’t)': 1,\n",
       " 'own': 19,\n",
       " 'doing': 11,\n",
       " 'this,': 18,\n",
       " 'find': 15,\n",
       " 'interesting': 2,\n",
       " 'watch': 8,\n",
       " 'drawers.': 1,\n",
       " 'knees,': 4,\n",
       " 'expect,': 1,\n",
       " 'lingering': 2,\n",
       " 'humorously': 1,\n",
       " 'some': 30,\n",
       " 'contents,': 1,\n",
       " 'wondering': 3,\n",
       " 'earth': 3,\n",
       " 'picked': 2,\n",
       " 'discoveries': 1,\n",
       " 'sweet,': 4,\n",
       " 'pressing': 3,\n",
       " 'cheek': 2,\n",
       " 'kitten,': 1,\n",
       " 'hurriedly': 1,\n",
       " 'stowing': 1,\n",
       " 'sight.': 5,\n",
       " 'When': 18,\n",
       " 'wake': 5,\n",
       " 'naughtiness': 1,\n",
       " 'evil': 5,\n",
       " 'passions': 1,\n",
       " 'bed': 25,\n",
       " 'folded': 2,\n",
       " 'small': 11,\n",
       " 'placed': 2,\n",
       " 'bottom': 2,\n",
       " 'top,': 2,\n",
       " 'beautifully': 2,\n",
       " 'aired,': 3,\n",
       " 'spread': 2,\n",
       " 'prettier': 1,\n",
       " 'thoughts,': 1,\n",
       " 'ready': 3,\n",
       " 'ever': 37,\n",
       " 'map': 5,\n",
       " 'person’s': 1,\n",
       " 'mind.': 5,\n",
       " 'Doctors': 1,\n",
       " 'draw': 9,\n",
       " 'maps': 2,\n",
       " 'parts': 2,\n",
       " 'you,': 24,\n",
       " 'intensely': 1,\n",
       " 'interesting,': 2,\n",
       " 'catch': 4,\n",
       " 'child’s': 1,\n",
       " 'mind,': 1,\n",
       " 'confused,': 1,\n",
       " 'keeps': 2,\n",
       " 'round': 43,\n",
       " 'time.': 9,\n",
       " 'zigzag': 1,\n",
       " 'lines': 2,\n",
       " 'temperature': 1,\n",
       " 'card,': 1,\n",
       " 'these': 26,\n",
       " 'probably': 8,\n",
       " 'roads': 1,\n",
       " 'island,': 9,\n",
       " 'Neverland': 11,\n",
       " 'less': 9,\n",
       " 'astonishing': 2,\n",
       " 'splashes': 1,\n",
       " 'colour': 5,\n",
       " 'here': 16,\n",
       " 'there,': 9,\n",
       " 'coral': 2,\n",
       " 'reefs': 1,\n",
       " 'rakish-looking': 2,\n",
       " 'craft': 3,\n",
       " 'offing,': 1,\n",
       " 'savages': 2,\n",
       " 'lonely': 4,\n",
       " 'lairs,': 1,\n",
       " 'gnomes': 1,\n",
       " 'mostly': 3,\n",
       " 'tailors,': 1,\n",
       " 'caves': 2,\n",
       " 'through': 46,\n",
       " 'river': 1,\n",
       " 'runs,': 2,\n",
       " 'princes': 1,\n",
       " 'elder': 1,\n",
       " 'brothers,': 1,\n",
       " 'hut': 1,\n",
       " 'fast': 4,\n",
       " 'decay,': 1,\n",
       " 'lady': 15,\n",
       " 'hooked': 1,\n",
       " 'nose.': 1,\n",
       " 'easy': 5,\n",
       " 'all,': 11,\n",
       " 'religion,': 1,\n",
       " 'fathers,': 1,\n",
       " 'pond,': 1,\n",
       " 'needle-work,': 1,\n",
       " 'murders,': 1,\n",
       " 'hangings,': 1,\n",
       " 'verbs': 1,\n",
       " 'take': 31,\n",
       " 'dative,': 1,\n",
       " 'chocolate': 2,\n",
       " 'pudding': 1,\n",
       " 'day,': 6,\n",
       " 'getting': 11,\n",
       " 'braces,': 1,\n",
       " 'ninety-nine,': 1,\n",
       " 'three-pence': 1,\n",
       " 'pulling': 5,\n",
       " 'tooth': 1,\n",
       " 'yourself,': 1,\n",
       " 'on,': 10,\n",
       " 'either': 4,\n",
       " 'part': 21,\n",
       " 'island': 18,\n",
       " 'showing': 9,\n",
       " 'confusing,': 1,\n",
       " 'especially': 7,\n",
       " 'nothing': 15,\n",
       " 'stand': 6,\n",
       " 'still.': 3,\n",
       " 'Neverlands': 2,\n",
       " 'vary': 1,\n",
       " 'deal.': 1,\n",
       " 'John’s,': 1,\n",
       " 'instance,': 5,\n",
       " 'lagoon': 13,\n",
       " 'flamingoes': 1,\n",
       " 'flying': 14,\n",
       " 'John': 76,\n",
       " 'shooting,': 1,\n",
       " 'Michael,': 17,\n",
       " 'small,': 1,\n",
       " 'flamingo': 2,\n",
       " 'lagoons': 1,\n",
       " 'boat': 3,\n",
       " 'turned': 12,\n",
       " 'upside': 1,\n",
       " 'sands,': 1,\n",
       " 'wigwam,': 1,\n",
       " 'leaves': 9,\n",
       " 'deftly': 2,\n",
       " 'sewn': 2,\n",
       " 'together.': 3,\n",
       " 'friends': 1,\n",
       " 'night,': 10,\n",
       " 'pet': 3,\n",
       " 'wolf': 2,\n",
       " 'forsaken': 1,\n",
       " 'its': 28,\n",
       " 'parents,': 2,\n",
       " 'resemblance,': 1,\n",
       " 'stood': 22,\n",
       " 'still': 51,\n",
       " 'other’s': 6,\n",
       " 'nose,': 1,\n",
       " 'forth.': 3,\n",
       " 'magic': 2,\n",
       " 'shores': 1,\n",
       " 'play': 8,\n",
       " 'beaching': 1,\n",
       " 'coracles': 1,\n",
       " '[simple': 1,\n",
       " 'boat].': 1,\n",
       " 'We': 16,\n",
       " 'too': 34,\n",
       " 'there;': 3,\n",
       " 'hear': 32,\n",
       " 'sound': 28,\n",
       " 'surf,': 1,\n",
       " 'shall': 25,\n",
       " 'land': 5,\n",
       " 'more.': 8,\n",
       " 'delectable': 1,\n",
       " 'islands': 1,\n",
       " 'snuggest': 1,\n",
       " 'compact,': 1,\n",
       " 'large': 13,\n",
       " 'sprawly,': 1,\n",
       " 'tedious': 1,\n",
       " 'distances': 1,\n",
       " 'adventure': 10,\n",
       " 'another,': 8,\n",
       " 'nicely': 2,\n",
       " 'crammed.': 1,\n",
       " 'chairs': 2,\n",
       " 'table-cloth,': 1,\n",
       " 'least': 11,\n",
       " 'alarming,': 1,\n",
       " 'minutes': 5,\n",
       " 'before': 40,\n",
       " 'go': 56,\n",
       " 'sleep': 13,\n",
       " 'becomes': 1,\n",
       " 'real.': 1,\n",
       " 'That': 14,\n",
       " 'night-lights.': 2,\n",
       " 'Occasionally': 1,\n",
       " 'travels': 1,\n",
       " 'found': 40,\n",
       " 'understand,': 3,\n",
       " 'perplexing': 1,\n",
       " 'word': 8,\n",
       " 'Peter.': 27,\n",
       " 'Peter,': 50,\n",
       " 'minds,': 1,\n",
       " 'began': 17,\n",
       " 'scrawled': 1,\n",
       " 'name': 8,\n",
       " 'bolder': 1,\n",
       " 'letters': 2,\n",
       " 'than': 60,\n",
       " 'words,': 8,\n",
       " 'gazed': 5,\n",
       " 'felt': 22,\n",
       " 'oddly': 2,\n",
       " 'cocky': 1,\n",
       " 'appearance.': 1,\n",
       " '“Yes,': 20,\n",
       " 'cocky,”': 1,\n",
       " 'admitted': 3,\n",
       " 'regret.': 1,\n",
       " 'questioning': 1,\n",
       " '“But': 17,\n",
       " 'he,': 2,\n",
       " 'pet?”': 1,\n",
       " '“He': 16,\n",
       " 'mother.”': 7,\n",
       " 'At': 18,\n",
       " 'thinking': 14,\n",
       " 'childhood': 1,\n",
       " ...}"
      ]
     },
     "execution_count": 97,
     "metadata": {},
     "output_type": "execute_result"
    }
   ],
   "source": [
    "pp_words_counts\n"
   ]
  },
  {
   "cell_type": "code",
   "execution_count": 99,
   "metadata": {
    "collapsed": false
   },
   "outputs": [
    {
     "data": {
      "text/plain": [
       "[('the', 2331),\n",
       " ('and', 1396),\n",
       " ('to', 1214),\n",
       " ('a', 962),\n",
       " ('of', 929),\n",
       " ('was', 898),\n",
       " ('he', 866),\n",
       " ('in', 683),\n",
       " ('that', 564),\n",
       " ('had', 498),\n",
       " ('it', 473),\n",
       " ('they', 465),\n",
       " ('she', 465),\n",
       " ('his', 455),\n",
       " ('you', 403),\n",
       " ('but', 378),\n",
       " ('for', 377),\n",
       " ('not', 375),\n",
       " ('with', 361),\n",
       " ('her', 361),\n",
       " ('is', 350),\n",
       " ('on', 329),\n",
       " ('at', 322),\n",
       " ('as', 315),\n",
       " ('I', 253),\n",
       " ('be', 249),\n",
       " ('have', 247),\n",
       " ('were', 243),\n",
       " ('Peter', 238),\n",
       " ('all', 221),\n",
       " ('said', 218),\n",
       " ('their', 215),\n",
       " ('would', 211),\n",
       " ('Wendy', 200),\n",
       " ('so', 197),\n",
       " ('this', 195),\n",
       " ('are', 188),\n",
       " ('him', 186),\n",
       " ('by', 175),\n",
       " ('one', 170),\n",
       " ('them', 165),\n",
       " ('He', 163),\n",
       " ('“I', 159),\n",
       " ('when', 152),\n",
       " ('The', 150),\n",
       " ('from', 145),\n",
       " ('could', 139),\n",
       " ('we', 138),\n",
       " ('no', 136),\n",
       " ('been', 135),\n",
       " ('who', 134),\n",
       " ('or', 133),\n",
       " ('if', 125),\n",
       " ('which', 122),\n",
       " ('It', 121),\n",
       " ('did', 115),\n",
       " ('out', 115),\n",
       " ('up', 113),\n",
       " ('there', 111),\n",
       " ('She', 109),\n",
       " ('said,', 108),\n",
       " ('about', 106),\n",
       " ('what', 105),\n",
       " ('They', 102),\n",
       " ('an', 102),\n",
       " ('into', 101),\n",
       " ('do', 98),\n",
       " ('Darling', 93),\n",
       " ('little', 91),\n",
       " ('like', 86),\n",
       " ('see', 85),\n",
       " ('will', 84),\n",
       " ('only', 84),\n",
       " ('Hook', 84),\n",
       " ('time', 81),\n",
       " ('your', 80),\n",
       " ('Project', 79),\n",
       " ('John', 76),\n",
       " ('children', 75),\n",
       " ('now', 75),\n",
       " ('just', 74),\n",
       " ('Mrs.', 72),\n",
       " ('cried', 72),\n",
       " ('came', 71),\n",
       " ('thought', 69),\n",
       " ('my', 69),\n",
       " ('Michael', 69),\n",
       " ('other', 69),\n",
       " ('must', 68),\n",
       " ('any', 68),\n",
       " ('then', 67),\n",
       " ('him.', 66),\n",
       " ('know', 65),\n",
       " ('never', 65),\n",
       " ('But', 65),\n",
       " ('first', 64),\n",
       " ('very', 64),\n",
       " ('it,', 63),\n",
       " ('knew', 63),\n",
       " ('quite', 62),\n",
       " ('more', 62),\n",
       " ('boys', 61),\n",
       " ('way', 60),\n",
       " ('such', 60),\n",
       " ('than', 60),\n",
       " ('how', 60),\n",
       " ('over', 57),\n",
       " ('it.', 56),\n",
       " ('go', 56),\n",
       " ('course', 55),\n",
       " ('don’t', 54),\n",
       " ('Wendy,', 54),\n",
       " ('him,', 53),\n",
       " ('Gutenberg-tm', 53),\n",
       " ('down', 51),\n",
       " ('still', 51),\n",
       " ('always', 50),\n",
       " ('come', 50),\n",
       " ('can', 50),\n",
       " ('long', 50),\n",
       " ('Peter,', 50),\n",
       " ('may', 49),\n",
       " ('made', 49),\n",
       " ('last', 49),\n",
       " ('because', 49),\n",
       " ('went', 48),\n",
       " ('moment', 48),\n",
       " ('should', 47),\n",
       " ('them,', 47),\n",
       " ('think', 47),\n",
       " ('me', 47),\n",
       " ('though', 46),\n",
       " ('Mr.', 46),\n",
       " ('through', 46),\n",
       " ('Then', 46),\n",
       " ('after', 45),\n",
       " ('really', 44),\n",
       " ('let', 44),\n",
       " ('am', 44),\n",
       " ('There', 43),\n",
       " ('heard', 43),\n",
       " ('round', 43),\n",
       " ('cried,', 42),\n",
       " ('even', 42),\n",
       " ('where', 42),\n",
       " ('rather', 41),\n",
       " ('her.', 41),\n",
       " ('without', 41),\n",
       " ('saw', 41),\n",
       " ('put', 40),\n",
       " ('most', 40),\n",
       " ('once', 40),\n",
       " ('before', 40),\n",
       " ('found', 40),\n",
       " ('has', 40),\n",
       " ('every', 39),\n",
       " ('get', 39),\n",
       " ('“It', 38),\n",
       " ('tell', 38),\n",
       " ('work', 38),\n",
       " ('Of', 37),\n",
       " ('her,', 37),\n",
       " ('night', 37),\n",
       " ('ever', 37),\n",
       " ('them.', 37),\n",
       " ('pirates', 37),\n",
       " ('almost', 36),\n",
       " ('You', 36),\n",
       " ('two', 36),\n",
       " ('gave', 36),\n",
       " ('say', 36),\n",
       " ('“What', 36),\n",
       " ('looking', 35),\n",
       " ('look', 35),\n",
       " ('us', 35),\n",
       " ('upon', 35),\n",
       " ('“You', 35),\n",
       " ('Chapter', 34),\n",
       " ('sat', 34),\n",
       " ('Nana', 34),\n",
       " ('too', 34),\n",
       " ('looked', 33),\n",
       " ('mother', 33),\n",
       " ('got', 33),\n",
       " ('man', 33),\n",
       " ('thing', 33),\n",
       " ('If', 33),\n",
       " ('asked', 33),\n",
       " ('again', 33),\n",
       " ('In', 33),\n",
       " ('told', 33),\n",
       " ('This', 32),\n",
       " ('hand', 32),\n",
       " ('hear', 32),\n",
       " ('going', 31),\n",
       " ('off', 31),\n",
       " ('each', 31),\n",
       " ('called', 31),\n",
       " ('back', 31),\n",
       " ('take', 31),\n",
       " ('much', 30),\n",
       " ('some', 30),\n",
       " ('away', 29),\n",
       " ('THE', 29),\n",
       " ('things', 29),\n",
       " ('sure', 29),\n",
       " ('now,', 29),\n",
       " ('fell', 29),\n",
       " ('under', 28),\n",
       " ('For', 28),\n",
       " ('might', 28),\n",
       " ('its', 28),\n",
       " ('sound', 28),\n",
       " ('want', 28),\n",
       " ('Smee', 28),\n",
       " ('And', 27),\n",
       " ('Peter.', 27),\n",
       " ('said.', 27),\n",
       " ('himself', 27),\n",
       " ('“And', 27),\n",
       " ('make', 27),\n",
       " ('Peter’s', 27),\n",
       " ('Tinker', 27),\n",
       " ('electronic', 27),\n",
       " ('give', 26),\n",
       " ('soon', 26),\n",
       " ('Wendy’s', 26),\n",
       " ('being', 26),\n",
       " ('light', 26),\n",
       " ('these', 26),\n",
       " ('our', 26),\n",
       " ('Tink', 26),\n",
       " ('face', 26),\n",
       " ('Slightly', 26),\n",
       " ('old', 25),\n",
       " ('house', 25),\n",
       " ('many', 25),\n",
       " ('while', 25),\n",
       " ('good', 25),\n",
       " ('bed', 25),\n",
       " ('shall', 25),\n",
       " ('eyes', 25),\n",
       " ('To', 25),\n",
       " ('home', 25),\n",
       " ('another', 24),\n",
       " ('“Oh,', 24),\n",
       " ('can’t', 24),\n",
       " ('took', 24),\n",
       " ('three', 24),\n",
       " ('As', 24),\n",
       " ('well', 24),\n",
       " ('you,', 24),\n",
       " ('replied', 24),\n",
       " ('Wendy.', 24),\n",
       " ('Tootles', 24),\n",
       " ('seemed', 23),\n",
       " ('nursery', 23),\n",
       " ('something', 23),\n",
       " ('again,', 23),\n",
       " ('against', 23),\n",
       " ('great', 23),\n",
       " ('works', 23),\n",
       " ('Gutenberg', 22),\n",
       " ('again.', 22),\n",
       " ('same', 22),\n",
       " ('sometimes', 22),\n",
       " ('stood', 22),\n",
       " ('felt', 22),\n",
       " ('till', 22),\n",
       " ('tried', 22),\n",
       " ('pirate', 22),\n",
       " ('terms', 21),\n",
       " ('until', 21),\n",
       " ('John,', 21),\n",
       " ('part', 21),\n",
       " ('“No,', 21),\n",
       " ('suddenly', 21),\n",
       " ('lost', 21),\n",
       " ('flew', 21),\n",
       " ('Hook’s', 21),\n",
       " ('seen', 20),\n",
       " ('room', 20),\n",
       " ('“Yes,', 20),\n",
       " ('“and', 20),\n",
       " ('boy', 20),\n",
       " ('window', 20),\n",
       " ('new', 20),\n",
       " ('help', 20),\n",
       " ('save', 20),\n",
       " ('use', 19),\n",
       " ('A', 19),\n",
       " ('except', 19),\n",
       " ('own', 19),\n",
       " ('“If', 19),\n",
       " ('me,', 19),\n",
       " ('What', 19),\n",
       " ('“The', 19),\n",
       " ('others', 19),\n",
       " ('fly', 19),\n",
       " ('redskins', 19),\n",
       " ('up,', 18),\n",
       " ('often', 18),\n",
       " ('whether', 18),\n",
       " ('cried.', 18),\n",
       " ('days', 18),\n",
       " ('also', 18),\n",
       " ('this,', 18),\n",
       " ('When', 18),\n",
       " ('island', 18),\n",
       " ('At', 18),\n",
       " ('full', 18),\n",
       " ('tree', 18),\n",
       " ('head', 18),\n",
       " ('out.', 18),\n",
       " ('So', 18),\n",
       " ('longer', 18),\n",
       " ('Now', 18),\n",
       " ('Hook,', 18),\n",
       " ('All', 17),\n",
       " ('ran', 17),\n",
       " ('used', 17),\n",
       " ('those', 17),\n",
       " ('both', 17),\n",
       " ('however,', 17),\n",
       " ('around', 17),\n",
       " ('lay', 17),\n",
       " ('Michael,', 17),\n",
       " ('began', 17),\n",
       " ('“But', 17),\n",
       " ('thus', 17),\n",
       " ('does', 17),\n",
       " ('already', 17),\n",
       " ('copyright', 16),\n",
       " ('set', 16),\n",
       " ('here', 16),\n",
       " ('We', 16),\n",
       " ('“He', 16),\n",
       " ('strange', 16),\n",
       " ('best', 16),\n",
       " ('real', 16),\n",
       " ('flung', 16),\n",
       " ('far', 16),\n",
       " ('“O', 16),\n",
       " ('His', 16),\n",
       " ('arms', 16),\n",
       " ('Bell', 16),\n",
       " ('“She', 16),\n",
       " ('terrible', 16),\n",
       " ('Nibs', 16),\n",
       " ('bird', 16),\n",
       " ('one,', 15),\n",
       " ('mouth', 15),\n",
       " ('out,', 15),\n",
       " ('feeling', 15),\n",
       " ('find', 15),\n",
       " ('lady', 15),\n",
       " ('nothing', 15),\n",
       " ('him;', 15),\n",
       " ('perhaps', 15),\n",
       " ('water', 15),\n",
       " ('it?”', 15),\n",
       " ('indeed', 15),\n",
       " ('says', 15),\n",
       " ('then,', 15),\n",
       " ('“Yes.”', 15),\n",
       " ('voice', 15),\n",
       " ('“Then', 15),\n",
       " ('Hook.', 15),\n",
       " ('up.', 14),\n",
       " ('lovely', 14),\n",
       " ('was,', 14),\n",
       " ('whole', 14),\n",
       " ('keep', 14),\n",
       " ('wanted', 14),\n",
       " ('followed', 14),\n",
       " ('yet', 14),\n",
       " ('flying', 14),\n",
       " ('That', 14),\n",
       " ('thinking', 14),\n",
       " ('time,', 14),\n",
       " ('“Oh', 14),\n",
       " ('bed.', 14),\n",
       " ('“It’s', 14),\n",
       " ('“Let', 14),\n",
       " ('left', 14),\n",
       " ('glad', 14),\n",
       " ('“Are', 14),\n",
       " ('boys,', 14),\n",
       " ('you.”', 14),\n",
       " ('answered', 14),\n",
       " ('“that', 14),\n",
       " ('fairy', 14),\n",
       " ('“Do', 14),\n",
       " ('liked', 14),\n",
       " ('among', 14),\n",
       " ('Peter,”', 14),\n",
       " ('iron', 14),\n",
       " ('hat', 14),\n",
       " ('ground', 14),\n",
       " ('Starkey', 14),\n",
       " ('need', 14),\n",
       " ('Foundation', 14),\n",
       " ('Pan', 13),\n",
       " ('heart', 13),\n",
       " ('why', 13),\n",
       " ('between', 13),\n",
       " ('loved', 13),\n",
       " ('ones', 13),\n",
       " ('instead', 13),\n",
       " ('cut', 13),\n",
       " ('nine', 13),\n",
       " ('exactly', 13),\n",
       " ('lagoon', 13),\n",
       " ('large', 13),\n",
       " ('sleep', 13),\n",
       " ('remember', 13),\n",
       " ('near', 13),\n",
       " ('hand,', 13),\n",
       " ('returned', 13),\n",
       " ('leave', 13),\n",
       " ('having', 13),\n",
       " ('dear', 13),\n",
       " ('white', 13),\n",
       " ('say,', 13),\n",
       " ('gone', 13),\n",
       " ('wish', 13),\n",
       " ('words', 13),\n",
       " ('cannot', 13),\n",
       " ('brought', 13),\n",
       " ('water,', 13),\n",
       " ('end', 13),\n",
       " ('whispered', 13),\n",
       " ('right', 13),\n",
       " ('them;', 13),\n",
       " ('pretty', 13),\n",
       " ('“Ay,', 13),\n",
       " ('Smee,', 13),\n",
       " ('Tiger', 13),\n",
       " ('Jane', 13),\n",
       " ('Literary', 13),\n",
       " ('Archive', 13),\n",
       " ('By', 12),\n",
       " ('passed', 12),\n",
       " ('kept', 12),\n",
       " ('dropped', 12),\n",
       " ('course,', 12),\n",
       " ('side', 12),\n",
       " ('On', 12),\n",
       " ('No', 12),\n",
       " ('nice', 12),\n",
       " ('turned', 12),\n",
       " ('isn’t', 12),\n",
       " ('father', 12),\n",
       " ('comes', 12),\n",
       " ('saying', 12),\n",
       " ('answer', 12),\n",
       " ('black', 12),\n",
       " ('back.', 12),\n",
       " ('better', 12),\n",
       " ('hands', 12),\n",
       " ('“How', 12),\n",
       " ('showed', 12),\n",
       " ('taken', 12),\n",
       " ('kind', 12),\n",
       " ('behind', 12),\n",
       " ('himself,', 12),\n",
       " ('anything', 12),\n",
       " ('awfully', 12),\n",
       " ('open', 12),\n",
       " ('big', 12),\n",
       " ('rose', 12),\n",
       " ('forgotten', 12),\n",
       " ('merely', 12),\n",
       " ('see,', 12),\n",
       " ('return', 12),\n",
       " ('story', 12),\n",
       " ('cry', 12),\n",
       " ('air', 12),\n",
       " ('me.”', 12),\n",
       " ('Slightly,', 12),\n",
       " ('crocodile', 12),\n",
       " ('rock', 12),\n",
       " ('day', 11),\n",
       " ('one.', 11),\n",
       " ('mind', 11),\n",
       " ('within', 11),\n",
       " ('know,', 11),\n",
       " ('drew', 11),\n",
       " ('bed,', 11),\n",
       " ('whom', 11),\n",
       " ('on.', 11),\n",
       " ('carried', 11),\n",
       " ('doing', 11),\n",
       " ('small', 11),\n",
       " ('Neverland', 11),\n",
       " ('all,', 11),\n",
       " ('getting', 11),\n",
       " ('least', 11),\n",
       " ('meant', 11),\n",
       " ('adventures', 11),\n",
       " ('believe', 11),\n",
       " ('Nana’s', 11),\n",
       " ('door', 11),\n",
       " ('shadow', 11),\n",
       " ('“That', 11),\n",
       " ('also,', 11),\n",
       " ('rushed', 11),\n",
       " ('became', 11),\n",
       " ('Even', 11),\n",
       " ('“They', 11),\n",
       " ('“We', 11),\n",
       " ('“I’m', 11),\n",
       " ('fear', 11),\n",
       " ('few', 11),\n",
       " ('“Peter', 11),\n",
       " ('Not', 11),\n",
       " ('away,', 11),\n",
       " ('now.', 11),\n",
       " ('With', 11),\n",
       " ('across', 11),\n",
       " ('Tootles,', 11),\n",
       " ('boys.', 11),\n",
       " ('person', 11),\n",
       " ('forth', 11),\n",
       " ('public', 11),\n",
       " ('dogs', 11),\n",
       " ('sitting', 11),\n",
       " ('written', 11),\n",
       " ('spring', 11),\n",
       " ('donations', 11),\n",
       " ('OF', 10),\n",
       " ('playing', 10),\n",
       " ('Her', 10),\n",
       " ('girl', 10),\n",
       " ('Darling,', 10),\n",
       " ('trying', 10),\n",
       " ('able', 10),\n",
       " ('frightfully', 10),\n",
       " ('making', 10),\n",
       " ('carry', 10),\n",
       " ('done', 10),\n",
       " ('How', 10),\n",
       " ('way.', 10),\n",
       " ('next', 10),\n",
       " ('on,', 10),\n",
       " ('night,', 10),\n",
       " ('adventure', 10),\n",
       " ('grown', 10),\n",
       " ('window.', 10),\n",
       " ('and,', 10),\n",
       " ('hung', 10),\n",
       " ('it;', 10),\n",
       " ('mother,', 10),\n",
       " ('“but', 10),\n",
       " ('mean', 10),\n",
       " ('hour', 10),\n",
       " ('place', 10),\n",
       " ('asked,', 10),\n",
       " ('fall', 10),\n",
       " ('close', 10),\n",
       " ('you?”', 10),\n",
       " ('floor', 10),\n",
       " ('short', 10),\n",
       " ('“Don’t', 10),\n",
       " ('voice,', 10),\n",
       " ('broke', 10),\n",
       " ('keeping', 10),\n",
       " ('“you', 10),\n",
       " ('Tink,', 10),\n",
       " ('“Who', 10),\n",
       " ('Do', 10),\n",
       " ('reached', 10),\n",
       " ('dark', 10),\n",
       " ('pass', 10),\n",
       " ('hook', 10),\n",
       " ('Thus', 10),\n",
       " ('gay', 10),\n",
       " ('Curly', 10),\n",
       " ('Never', 10),\n",
       " ('turn', 10),\n",
       " ('ship', 10),\n",
       " ('United', 10),\n",
       " ('access', 10),\n",
       " ('paragraph', 10),\n",
       " ('eBook', 9),\n",
       " ('One', 9),\n",
       " ('mother.', 9),\n",
       " ('six', 9),\n",
       " ('so,', 9),\n",
       " ('Nana,', 9),\n",
       " ('become', 9),\n",
       " ('forgot', 9),\n",
       " ('coming', 9),\n",
       " ('asleep', 9),\n",
       " ('draw', 9),\n",
       " ('time.', 9),\n",
       " ('island,', 9),\n",
       " ('less', 9),\n",
       " ('there,', 9),\n",
       " ('showing', 9),\n",
       " ('leaves', 9),\n",
       " ('Some', 9),\n",
       " ('explained', 9),\n",
       " ('“My', 9),\n",
       " ('happened', 9),\n",
       " ('evening', 9),\n",
       " ('mothers', 9),\n",
       " ('quickly,', 9),\n",
       " ('medicine', 9),\n",
       " ('dreadful', 9),\n",
       " ('herself', 9),\n",
       " ('mother,”', 9),\n",
       " ('nearly', 9),\n",
       " ('tied', 9),\n",
       " ('feel', 9),\n",
       " ('know,”', 9),\n",
       " ('life', 9),\n",
       " ('it,”', 9),\n",
       " ('John.', 9),\n",
       " ('“Well,', 9),\n",
       " ('“the', 9),\n",
       " ('inside', 9),\n",
       " ('rest', 9),\n",
       " ('woke', 9),\n",
       " ('“Perhaps', 9),\n",
       " ('me!”', 9),\n",
       " ('slowly', 9),\n",
       " ('fairies', 9),\n",
       " ('struck', 9),\n",
       " ('silly', 9),\n",
       " ('immediately', 9),\n",
       " ('birds', 9),\n",
       " ('themselves', 9),\n",
       " ('“There', 9),\n",
       " ('Wendy,”', 9),\n",
       " ('alone', 9),\n",
       " ('brave', 9),\n",
       " ('ground,', 9),\n",
       " ('raised', 9),\n",
       " ('nest', 9),\n",
       " ('agreement', 9),\n",
       " ('mother’s', 9),\n",
       " ('laws', 9),\n",
       " ('form', 9),\n",
       " ('James', 8),\n",
       " ('copy', 8),\n",
       " ('License', 8),\n",
       " ('follow', 8),\n",
       " ('***', 8),\n",
       " ('YOU', 8),\n",
       " ('OR', 8),\n",
       " ('grow', 8),\n",
       " ('beginning', 8),\n",
       " ('kiss', 8),\n",
       " ('“Now', 8),\n",
       " ('ten', 8),\n",
       " ('“Of', 8),\n",
       " ('half', 8),\n",
       " ('watch', 8),\n",
       " ('probably', 8),\n",
       " ('play', 8),\n",
       " ('more.', 8),\n",
       " ('another,', 8),\n",
       " ('word', 8),\n",
       " ('name', 8),\n",
       " ('words,', 8),\n",
       " ('live', 8),\n",
       " ('“it', 8),\n",
       " ('met', 8),\n",
       " ('foot', 8),\n",
       " ('While', 8),\n",
       " ('blew', 8),\n",
       " ('cry,', 8),\n",
       " ('trees', 8),\n",
       " ('leapt', 8),\n",
       " ('ought', 8),\n",
       " ('bad', 8),\n",
       " ('call', 8),\n",
       " ('love', 8),\n",
       " ('wearing', 8),\n",
       " ('happy', 8),\n",
       " ('ask', 8),\n",
       " ('times', 8),\n",
       " ('unless', 8),\n",
       " ('do,', 8),\n",
       " ('knows', 8),\n",
       " ('“I’ll', 8),\n",
       " ('in.', 8),\n",
       " ('silence', 8),\n",
       " ('show', 8),\n",
       " ('watching', 8),\n",
       " ('beds', 8),\n",
       " ('way,', 8),\n",
       " ('moment,', 8),\n",
       " ('shut', 8),\n",
       " ('life.', 8),\n",
       " ('“Wendy,', 8),\n",
       " ('I’ll', 8),\n",
       " ('held', 8),\n",
       " ('toward', 8),\n",
       " ('captain', 8),\n",
       " ('back,', 8),\n",
       " ('fly.”', 8),\n",
       " ('sea', 8),\n",
       " ('air,', 8),\n",
       " ('bit', 8),\n",
       " ('certain', 8),\n",
       " ('several', 8),\n",
       " ('once,', 8),\n",
       " ('spoke', 8),\n",
       " ('meet', 8),\n",
       " ('pirates,', 8),\n",
       " ('cast', 8),\n",
       " ('associated', 8),\n",
       " ('trees,', 8),\n",
       " ('hollow', 8),\n",
       " ('claw', 8),\n",
       " ('voice.', 8),\n",
       " ('waiting', 8),\n",
       " ('away.', 8),\n",
       " ('lagoon,', 8),\n",
       " ('walk', 8),\n",
       " ('“No.”', 8),\n",
       " ('agree', 8),\n",
       " ('Slightly’s', 8),\n",
       " ('fee', 8),\n",
       " ('including', 8),\n",
       " ('THIS', 7),\n",
       " ('suppose', 7),\n",
       " ('number', 7),\n",
       " ('lady,', 7),\n",
       " ('sweet', 7),\n",
       " ('discovered', 7),\n",
       " ('first,', 7),\n",
       " ('woman', 7),\n",
       " ('Darling’s', 7),\n",
       " ('proud', 7),\n",
       " ('makes', 7),\n",
       " ('question', 7),\n",
       " ('down,', 7),\n",
       " ('treated', 7),\n",
       " ('particular', 7),\n",
       " ('knowing', 7),\n",
       " ('believed', 7),\n",
       " ('floor,', 7),\n",
       " ('themselves,', 7),\n",
       " ('Michael’s', 7),\n",
       " ('straight', 7),\n",
       " ('especially', 7),\n",
       " ('mother.”', 7),\n",
       " ('remembered', 7),\n",
       " ('sort', 7),\n",
       " ('dead', 7),\n",
       " ('Wendy?”', 7),\n",
       " ('“why', 7),\n",
       " ('grew', 7),\n",
       " ('speak', 7),\n",
       " ('fire', 7),\n",
       " ('lit', 7),\n",
       " ('faces', 7),\n",
       " ('mouth,', 7),\n",
       " ('out;', 7),\n",
       " ('hanging', 7),\n",
       " ('all.', 7),\n",
       " ('true,', 7),\n",
       " ('it’s', 7),\n",
       " ('won’t', 7),\n",
       " ('dear,', 7),\n",
       " ('wants', 7),\n",
       " ('that.', 7),\n",
       " ('wasn’t', 7),\n",
       " ('story,', 7),\n",
       " ('father,”', 7),\n",
       " ('it.”', 7),\n",
       " ('ready,', 7),\n",
       " ('funny', 7),\n",
       " ('whispered,', 7),\n",
       " ('house,', 7),\n",
       " ('unhappy', 7),\n",
       " ('low', 7),\n",
       " ('figure', 7),\n",
       " ('blown', 7),\n",
       " ('stick', 7),\n",
       " ('crying', 7),\n",
       " ('name.', 7),\n",
       " ('I’m', 7),\n",
       " ('frightful', 7),\n",
       " ('“A', 7),\n",
       " ('“Wendy,”', 7),\n",
       " ('Peter?”', 7),\n",
       " ('people', 7),\n",
       " ('run', 7),\n",
       " ('“Peter,”', 7),\n",
       " ('forward', 7),\n",
       " ('that?”', 7),\n",
       " ('using', 7),\n",
       " ('not.', 7),\n",
       " ('“Peter,', 7),\n",
       " ('signed', 7),\n",
       " ('since', 7),\n",
       " ('sight', 7),\n",
       " ('right,', 7),\n",
       " ('pretend', 7),\n",
       " ('smoke', 7),\n",
       " ('above', 7),\n",
       " ('kill', 7),\n",
       " ('known', 7),\n",
       " ('fight', 7),\n",
       " ('hoped', 7),\n",
       " ('present', 7),\n",
       " ('Nibs,', 7),\n",
       " ('ho,', 7),\n",
       " ('to,', 7),\n",
       " ('Starkey,', 7),\n",
       " ('trees.', 7),\n",
       " ('“Hullo,', 7),\n",
       " ('feet', 7),\n",
       " ('true', 7),\n",
       " ('tree.', 7),\n",
       " ('lagoon.', 7),\n",
       " ('mermaids', 7),\n",
       " ('Had', 7),\n",
       " ('forget', 7),\n",
       " ('feelings', 7),\n",
       " ('complain', 7),\n",
       " ('hope', 7),\n",
       " ('cabin', 7),\n",
       " ('free', 7),\n",
       " ('paid', 7),\n",
       " ('domain', 7),\n",
       " ('permission', 7),\n",
       " ('copies', 7),\n",
       " ('Section', 7),\n",
       " ('work,', 7),\n",
       " ('posted', 7),\n",
       " ('-', 7),\n",
       " ('COME', 6),\n",
       " ('HOME', 6),\n",
       " ('children,', 6),\n",
       " ('this.', 6),\n",
       " ('lived', 6),\n",
       " ('perfectly', 6),\n",
       " ('married', 6),\n",
       " ('Michael.', 6),\n",
       " ('week', 6),\n",
       " ('here,', 6),\n",
       " ('is,', 6),\n",
       " ('year', 6),\n",
       " ('time;', 6),\n",
       " ('everything', 6),\n",
       " ('peeping', 6),\n",
       " ('kennel', 6),\n",
       " ('talk', 6),\n",
       " ('day,', 6),\n",
       " ('stand', 6),\n",
       " ('other’s', 6),\n",
       " ('stories', 6),\n",
       " ('sense', 6),\n",
       " ('time.”', 6),\n",
       " ('dog', 6),\n",
       " ('window,', 6),\n",
       " ('mother?”', 6),\n",
       " ('slept', 6),\n",
       " ('Perhaps', 6),\n",
       " ('Neverland,', 6),\n",
       " ('darted', 6),\n",
       " ('boy,', 6),\n",
       " ('Again', 6),\n",
       " ('ordinary', 6),\n",
       " ('telling', 6),\n",
       " ('afterwards', 6),\n",
       " ('pretended', 6),\n",
       " ('master', 6),\n",
       " ('thought,', 6),\n",
       " ('carrying', 6),\n",
       " ('Oh', 6),\n",
       " ('in,', 6),\n",
       " ('given', 6),\n",
       " ('danced', 6),\n",
       " ('me,”', 6),\n",
       " ('third', 6),\n",
       " ('Sometimes', 6),\n",
       " ('“Not', 6),\n",
       " ('men', 6),\n",
       " ('boy.', 6),\n",
       " ('him,”', 6),\n",
       " ('there.', 6),\n",
       " ('Liza', 6),\n",
       " ('“Why', 6),\n",
       " ('“Look', 6),\n",
       " ('you,”', 6),\n",
       " ('red', 6),\n",
       " ('sorry', 6),\n",
       " ('house.”', 6),\n",
       " ('“That’s', 6),\n",
       " ('right,”', 6),\n",
       " ('calling', 6),\n",
       " ('dragged', 6),\n",
       " ('nor', 6),\n",
       " ('asleep,', 6),\n",
       " ('fond', 6),\n",
       " ('second', 6),\n",
       " ('breathing', 6),\n",
       " ('“Is', 6),\n",
       " ('“Yes,”', 6),\n",
       " ('“is', 6),\n",
       " ('do.', 6),\n",
       " ('man,”', 6),\n",
       " ('“if', 6),\n",
       " ('listening', 6),\n",
       " ('continued,', 6),\n",
       " ('touch', 6),\n",
       " ('sent', 6),\n",
       " ('none', 6),\n",
       " ('However,', 6),\n",
       " ('“Where', 6),\n",
       " ('“To', 6),\n",
       " ('go.”', 6),\n",
       " ('“Oo!”', 6),\n",
       " ('sharp', 6),\n",
       " ('right.', 6),\n",
       " ('Every', 6),\n",
       " ('Here', 6),\n",
       " ('Once', 6),\n",
       " ('cold', 6),\n",
       " ('gaily', 6),\n",
       " ('waited', 6),\n",
       " ('along', 6),\n",
       " ('front', 6),\n",
       " ('change', 6),\n",
       " ('“There’s', 6),\n",
       " ('redskin', 6),\n",
       " ('beasts', 6),\n",
       " ('make-believe', 6),\n",
       " ('other.', 6),\n",
       " ('circle', 6),\n",
       " ('killed', 6),\n",
       " ('twins', 6),\n",
       " ('hair', 6),\n",
       " ('once.', 6),\n",
       " ('Smee.', 6),\n",
       " ('caught', 6),\n",
       " ('“Ay,”', 6),\n",
       " ('listened', 6),\n",
       " ('gathered', 6),\n",
       " ('Tink,”', 6),\n",
       " ('arrow', 6),\n",
       " ('step', 6),\n",
       " ('Peter.”', 6),\n",
       " ('sound,', 6),\n",
       " ('best,', 6),\n",
       " ('state', 6),\n",
       " ('that,', 6),\n",
       " ('remained', 6),\n",
       " ('After', 6),\n",
       " ('parents', 6),\n",
       " ('Or', 6),\n",
       " ('stayed', 6),\n",
       " ('surprise', 6),\n",
       " ('innocent', 6),\n",
       " ('tree,', 6),\n",
       " ('dagger', 6),\n",
       " ('board', 6),\n",
       " ('Cecco', 6),\n",
       " ('cleaning', 6),\n",
       " ('Jane.', 6),\n",
       " ('distributing', 6),\n",
       " ('charge', 6),\n",
       " ('distribution', 6),\n",
       " ('comply', 6),\n",
       " ('agreement,', 6),\n",
       " ('refund', 6),\n",
       " ('work.', 6),\n",
       " ('provide', 6),\n",
       " ('tax', 6),\n",
       " ('eBooks', 6),\n",
       " ('PETER', 5),\n",
       " ('remain', 5),\n",
       " ('mouth.', 5),\n",
       " ('tiny', 5),\n",
       " ('other,', 5),\n",
       " ('holding', 5),\n",
       " ('yes,', 5),\n",
       " ('George,”', 5),\n",
       " ('went,', 5),\n",
       " ('added', 5),\n",
       " ('nurse', 5),\n",
       " ('hated', 5),\n",
       " ('careless', 5),\n",
       " ('cry.', 5),\n",
       " ('John’s', 5),\n",
       " ('school', 5),\n",
       " ('status', 5),\n",
       " ('allowed', 5),\n",
       " ('Pan.', 5),\n",
       " ('sight.', 5),\n",
       " ('wake', 5),\n",
       " ('evil', 5),\n",
       " ('map', 5),\n",
       " ('mind.', 5),\n",
       " ...]"
      ]
     },
     "execution_count": 99,
     "metadata": {},
     "output_type": "execute_result"
    }
   ],
   "source": [
    "sorted(pp_words_counts.items(), key=lambda tup: tup[1], reverse = True)"
   ]
  },
  {
   "cell_type": "markdown",
   "metadata": {},
   "source": [
    "## Functions, Classes, and Modules"
   ]
  },
  {
   "cell_type": "markdown",
   "metadata": {},
   "source": [
    "### Functions"
   ]
  },
  {
   "cell_type": "code",
   "execution_count": 112,
   "metadata": {
    "collapsed": false
   },
   "outputs": [],
   "source": [
    "def foo():\n",
    "    return 'hello from foo'"
   ]
  },
  {
   "cell_type": "code",
   "execution_count": 116,
   "metadata": {
    "collapsed": false
   },
   "outputs": [
    {
     "name": "stdout",
     "output_type": "stream",
     "text": [
      "hello from foo\n"
     ]
    }
   ],
   "source": [
    "print(foo())"
   ]
  },
  {
   "cell_type": "code",
   "execution_count": 118,
   "metadata": {
    "collapsed": false
   },
   "outputs": [
    {
     "data": {
      "text/plain": [
       "<function __main__.foo>"
      ]
     },
     "execution_count": 118,
     "metadata": {},
     "output_type": "execute_result"
    }
   ],
   "source": [
    "foo"
   ]
  },
  {
   "cell_type": "code",
   "execution_count": 119,
   "metadata": {
    "collapsed": true
   },
   "outputs": [],
   "source": [
    "type(foo)"
   ]
  },
  {
   "cell_type": "code",
   "execution_count": 120,
   "metadata": {
    "collapsed": false
   },
   "outputs": [
    {
     "data": {
      "text/plain": [
       "'hello from foo'"
      ]
     },
     "execution_count": 120,
     "metadata": {},
     "output_type": "execute_result"
    }
   ],
   "source": [
    "bar = foo\n",
    "bar()"
   ]
  },
  {
   "cell_type": "code",
   "execution_count": 124,
   "metadata": {
    "collapsed": false
   },
   "outputs": [],
   "source": [
    "def foo(a,b,*c):\n",
    "    print(a,b,c)"
   ]
  },
  {
   "cell_type": "code",
   "execution_count": 126,
   "metadata": {
    "collapsed": false
   },
   "outputs": [
    {
     "name": "stdout",
     "output_type": "stream",
     "text": [
      "1 2 (3, 4, 5, 6, 7)\n"
     ]
    }
   ],
   "source": [
    "foo(1,2,3,4,5,6,7)"
   ]
  },
  {
   "cell_type": "code",
   "execution_count": 127,
   "metadata": {
    "collapsed": false
   },
   "outputs": [
    {
     "name": "stdout",
     "output_type": "stream",
     "text": [
      "1 2 ()\n"
     ]
    }
   ],
   "source": [
    "foo(1,2)"
   ]
  },
  {
   "cell_type": "code",
   "execution_count": 129,
   "metadata": {
    "collapsed": false
   },
   "outputs": [],
   "source": [
    "def foo(a = 100, b = 20):\n",
    "    print(a,b)"
   ]
  },
  {
   "cell_type": "code",
   "execution_count": 131,
   "metadata": {
    "collapsed": false
   },
   "outputs": [
    {
     "name": "stdout",
     "output_type": "stream",
     "text": [
      "b c\n"
     ]
    }
   ],
   "source": [
    "foo('b','c')"
   ]
  },
  {
   "cell_type": "code",
   "execution_count": 134,
   "metadata": {
    "collapsed": false
   },
   "outputs": [
    {
     "name": "stdout",
     "output_type": "stream",
     "text": [
      "hello\n"
     ]
    }
   ],
   "source": [
    "(lambda: print(\"hello\"))()"
   ]
  },
  {
   "cell_type": "code",
   "execution_count": 137,
   "metadata": {
    "collapsed": false
   },
   "outputs": [
    {
     "name": "stdout",
     "output_type": "stream",
     "text": [
      "hello\n"
     ]
    }
   ],
   "source": [
    "f=lambda: print(\"hello\")\n",
    "f()"
   ]
  },
  {
   "cell_type": "code",
   "execution_count": 139,
   "metadata": {
    "collapsed": false
   },
   "outputs": [
    {
     "data": {
      "text/plain": [
       "3"
      ]
     },
     "execution_count": 139,
     "metadata": {},
     "output_type": "execute_result"
    }
   ],
   "source": [
    "g = lambda x,y: x+y\n",
    "g(1,2)"
   ]
  },
  {
   "cell_type": "markdown",
   "metadata": {},
   "source": [
    "### Classes"
   ]
  },
  {
   "cell_type": "code",
   "execution_count": 6,
   "metadata": {
    "collapsed": false
   },
   "outputs": [],
   "source": [
    "class Foo:\n",
    "    pass"
   ]
  },
  {
   "cell_type": "code",
   "execution_count": 11,
   "metadata": {
    "collapsed": false
   },
   "outputs": [
    {
     "data": {
      "text/plain": [
       "<__main__.Foo at 0x1ba6a750668>"
      ]
     },
     "execution_count": 11,
     "metadata": {},
     "output_type": "execute_result"
    }
   ],
   "source": [
    "Foo()"
   ]
  },
  {
   "cell_type": "code",
   "execution_count": 12,
   "metadata": {
    "collapsed": false
   },
   "outputs": [
    {
     "data": {
      "text/plain": [
       "__main__.Foo"
      ]
     },
     "execution_count": 12,
     "metadata": {},
     "output_type": "execute_result"
    }
   ],
   "source": [
    "type(_)"
   ]
  },
  {
   "cell_type": "code",
   "execution_count": 23,
   "metadata": {
    "collapsed": true
   },
   "outputs": [],
   "source": [
    "f = Foo()"
   ]
  },
  {
   "cell_type": "code",
   "execution_count": 24,
   "metadata": {
    "collapsed": false
   },
   "outputs": [],
   "source": [
    "g = Foo()"
   ]
  },
  {
   "cell_type": "code",
   "execution_count": 25,
   "metadata": {
    "collapsed": false
   },
   "outputs": [
    {
     "data": {
      "text/plain": [
       "False"
      ]
     },
     "execution_count": 25,
     "metadata": {},
     "output_type": "execute_result"
    }
   ],
   "source": [
    "f is g"
   ]
  },
  {
   "cell_type": "code",
   "execution_count": 27,
   "metadata": {
    "collapsed": false
   },
   "outputs": [
    {
     "data": {
      "text/plain": [
       "True"
      ]
     },
     "execution_count": 27,
     "metadata": {},
     "output_type": "execute_result"
    }
   ],
   "source": [
    "f = g\n",
    "f is g"
   ]
  },
  {
   "cell_type": "code",
   "execution_count": 29,
   "metadata": {
    "collapsed": true
   },
   "outputs": [],
   "source": [
    "f.x = 10"
   ]
  },
  {
   "cell_type": "code",
   "execution_count": 31,
   "metadata": {
    "collapsed": false
   },
   "outputs": [
    {
     "data": {
      "text/plain": [
       "10"
      ]
     },
     "execution_count": 31,
     "metadata": {},
     "output_type": "execute_result"
    }
   ],
   "source": [
    "f.x"
   ]
  },
  {
   "cell_type": "code",
   "execution_count": 33,
   "metadata": {
    "collapsed": true
   },
   "outputs": [],
   "source": [
    "f.color = \"red\""
   ]
  },
  {
   "cell_type": "code",
   "execution_count": 37,
   "metadata": {
    "collapsed": false
   },
   "outputs": [
    {
     "data": {
      "text/plain": [
       "['__class__',\n",
       " '__delattr__',\n",
       " '__dict__',\n",
       " '__dir__',\n",
       " '__doc__',\n",
       " '__eq__',\n",
       " '__format__',\n",
       " '__ge__',\n",
       " '__getattribute__',\n",
       " '__gt__',\n",
       " '__hash__',\n",
       " '__init__',\n",
       " '__init_subclass__',\n",
       " '__le__',\n",
       " '__lt__',\n",
       " '__module__',\n",
       " '__ne__',\n",
       " '__new__',\n",
       " '__reduce__',\n",
       " '__reduce_ex__',\n",
       " '__repr__',\n",
       " '__setattr__',\n",
       " '__sizeof__',\n",
       " '__str__',\n",
       " '__subclasshook__',\n",
       " '__weakref__',\n",
       " 'color',\n",
       " 'x']"
      ]
     },
     "execution_count": 37,
     "metadata": {},
     "output_type": "execute_result"
    }
   ],
   "source": [
    "dir(f)"
   ]
  },
  {
   "cell_type": "code",
   "execution_count": 39,
   "metadata": {
    "collapsed": false
   },
   "outputs": [
    {
     "data": {
      "text/plain": [
       "['__class__',\n",
       " '__delattr__',\n",
       " '__dict__',\n",
       " '__dir__',\n",
       " '__doc__',\n",
       " '__eq__',\n",
       " '__format__',\n",
       " '__ge__',\n",
       " '__getattribute__',\n",
       " '__gt__',\n",
       " '__hash__',\n",
       " '__init__',\n",
       " '__init_subclass__',\n",
       " '__le__',\n",
       " '__lt__',\n",
       " '__module__',\n",
       " '__ne__',\n",
       " '__new__',\n",
       " '__reduce__',\n",
       " '__reduce_ex__',\n",
       " '__repr__',\n",
       " '__setattr__',\n",
       " '__sizeof__',\n",
       " '__str__',\n",
       " '__subclasshook__',\n",
       " '__weakref__']"
      ]
     },
     "execution_count": 39,
     "metadata": {},
     "output_type": "execute_result"
    }
   ],
   "source": [
    "g = Foo()\n",
    "dir(g)"
   ]
  },
  {
   "cell_type": "code",
   "execution_count": 40,
   "metadata": {
    "collapsed": true
   },
   "outputs": [],
   "source": [
    "class Foo:\n",
    "    def bar():\n",
    "        pass"
   ]
  },
  {
   "cell_type": "code",
   "execution_count": 43,
   "metadata": {
    "collapsed": false
   },
   "outputs": [
    {
     "data": {
      "text/plain": [
       "True"
      ]
     },
     "execution_count": 43,
     "metadata": {},
     "output_type": "execute_result"
    }
   ],
   "source": [
    "f = Foo()\n",
    "dir(f) == dir(Foo())"
   ]
  },
  {
   "cell_type": "code",
   "execution_count": 45,
   "metadata": {
    "collapsed": false
   },
   "outputs": [
    {
     "data": {
      "text/plain": [
       "function"
      ]
     },
     "execution_count": 45,
     "metadata": {},
     "output_type": "execute_result"
    }
   ],
   "source": [
    "type(Foo.bar)"
   ]
  },
  {
   "cell_type": "code",
   "execution_count": 48,
   "metadata": {
    "collapsed": false
   },
   "outputs": [],
   "source": [
    "Foo.bar()"
   ]
  },
  {
   "cell_type": "code",
   "execution_count": 50,
   "metadata": {
    "collapsed": false
   },
   "outputs": [
    {
     "ename": "TypeError",
     "evalue": "bar() takes 0 positional arguments but 1 was given",
     "output_type": "error",
     "traceback": [
      "\u001b[0;31m---------------------------------------------------------------------------\u001b[0m",
      "\u001b[0;31mTypeError\u001b[0m                                 Traceback (most recent call last)",
      "\u001b[0;32m<ipython-input-50-30fa523d4af0>\u001b[0m in \u001b[0;36m<module>\u001b[0;34m()\u001b[0m\n\u001b[0;32m----> 1\u001b[0;31m \u001b[0mf\u001b[0m\u001b[1;33m.\u001b[0m\u001b[0mbar\u001b[0m\u001b[1;33m(\u001b[0m\u001b[1;33m)\u001b[0m\u001b[1;33m\u001b[0m\u001b[0m\n\u001b[0m",
      "\u001b[0;31mTypeError\u001b[0m: bar() takes 0 positional arguments but 1 was given"
     ]
    }
   ],
   "source": [
    "f.bar()"
   ]
  },
  {
   "cell_type": "code",
   "execution_count": 52,
   "metadata": {
    "collapsed": false
   },
   "outputs": [
    {
     "data": {
      "text/plain": [
       "method"
      ]
     },
     "execution_count": 52,
     "metadata": {},
     "output_type": "execute_result"
    }
   ],
   "source": [
    "type(f.bar)"
   ]
  },
  {
   "cell_type": "code",
   "execution_count": 57,
   "metadata": {
    "collapsed": false
   },
   "outputs": [],
   "source": [
    "class Foo:\n",
    "    def bar(self, val):\n",
    "        self.val = val"
   ]
  },
  {
   "cell_type": "code",
   "execution_count": 59,
   "metadata": {
    "collapsed": true
   },
   "outputs": [],
   "source": [
    "f = Foo()"
   ]
  },
  {
   "cell_type": "code",
   "execution_count": 61,
   "metadata": {
    "collapsed": false
   },
   "outputs": [],
   "source": [
    "f.bar(123)"
   ]
  },
  {
   "cell_type": "code",
   "execution_count": 63,
   "metadata": {
    "collapsed": false
   },
   "outputs": [
    {
     "data": {
      "text/plain": [
       "345"
      ]
     },
     "execution_count": 63,
     "metadata": {},
     "output_type": "execute_result"
    }
   ],
   "source": [
    "Foo.bar(f, 345)\n",
    "f.val"
   ]
  },
  {
   "cell_type": "code",
   "execution_count": null,
   "metadata": {
    "collapsed": true
   },
   "outputs": [],
   "source": [
    "class Foo:\n",
    "    @staticmethod\n",
    "    def bar():\n",
    "        pass"
   ]
  },
  {
   "cell_type": "markdown",
   "metadata": {},
   "source": [
    "### Modules"
   ]
  },
  {
   "cell_type": "code",
   "execution_count": 65,
   "metadata": {
    "collapsed": false
   },
   "outputs": [
    {
     "data": {
      "text/plain": [
       "['Foo',\n",
       " 'In',\n",
       " 'Out',\n",
       " '_',\n",
       " '_10',\n",
       " '_11',\n",
       " '_12',\n",
       " '_14',\n",
       " '_15',\n",
       " '_18',\n",
       " '_19',\n",
       " '_20',\n",
       " '_21',\n",
       " '_25',\n",
       " '_26',\n",
       " '_27',\n",
       " '_30',\n",
       " '_31',\n",
       " '_34',\n",
       " '_36',\n",
       " '_37',\n",
       " '_38',\n",
       " '_39',\n",
       " '_41',\n",
       " '_42',\n",
       " '_43',\n",
       " '_44',\n",
       " '_45',\n",
       " '_5',\n",
       " '_51',\n",
       " '_52',\n",
       " '_62',\n",
       " '_63',\n",
       " '_64',\n",
       " '_7',\n",
       " '_8',\n",
       " '_9',\n",
       " '__',\n",
       " '___',\n",
       " '__builtin__',\n",
       " '__builtins__',\n",
       " '__doc__',\n",
       " '__loader__',\n",
       " '__name__',\n",
       " '__package__',\n",
       " '__spec__',\n",
       " '_dh',\n",
       " '_i',\n",
       " '_i1',\n",
       " '_i10',\n",
       " '_i11',\n",
       " '_i12',\n",
       " '_i13',\n",
       " '_i14',\n",
       " '_i15',\n",
       " '_i16',\n",
       " '_i17',\n",
       " '_i18',\n",
       " '_i19',\n",
       " '_i2',\n",
       " '_i20',\n",
       " '_i21',\n",
       " '_i22',\n",
       " '_i23',\n",
       " '_i24',\n",
       " '_i25',\n",
       " '_i26',\n",
       " '_i27',\n",
       " '_i28',\n",
       " '_i29',\n",
       " '_i3',\n",
       " '_i30',\n",
       " '_i31',\n",
       " '_i32',\n",
       " '_i33',\n",
       " '_i34',\n",
       " '_i35',\n",
       " '_i36',\n",
       " '_i37',\n",
       " '_i38',\n",
       " '_i39',\n",
       " '_i4',\n",
       " '_i40',\n",
       " '_i41',\n",
       " '_i42',\n",
       " '_i43',\n",
       " '_i44',\n",
       " '_i45',\n",
       " '_i46',\n",
       " '_i47',\n",
       " '_i48',\n",
       " '_i49',\n",
       " '_i5',\n",
       " '_i50',\n",
       " '_i51',\n",
       " '_i52',\n",
       " '_i53',\n",
       " '_i54',\n",
       " '_i55',\n",
       " '_i56',\n",
       " '_i57',\n",
       " '_i58',\n",
       " '_i59',\n",
       " '_i6',\n",
       " '_i60',\n",
       " '_i61',\n",
       " '_i62',\n",
       " '_i63',\n",
       " '_i64',\n",
       " '_i65',\n",
       " '_i7',\n",
       " '_i8',\n",
       " '_i9',\n",
       " '_ih',\n",
       " '_ii',\n",
       " '_iii',\n",
       " '_oh',\n",
       " '_sh',\n",
       " 'exit',\n",
       " 'f',\n",
       " 'g',\n",
       " 'get_ipython',\n",
       " 'quit']"
      ]
     },
     "execution_count": 65,
     "metadata": {},
     "output_type": "execute_result"
    }
   ],
   "source": [
    "dir()"
   ]
  },
  {
   "cell_type": "code",
   "execution_count": 66,
   "metadata": {
    "collapsed": false
   },
   "outputs": [
    {
     "data": {
      "text/plain": [
       "['BPF',\n",
       " 'LOG4',\n",
       " 'NV_MAGICCONST',\n",
       " 'RECIP_BPF',\n",
       " 'Random',\n",
       " 'SG_MAGICCONST',\n",
       " 'SystemRandom',\n",
       " 'TWOPI',\n",
       " '_BuiltinMethodType',\n",
       " '_MethodType',\n",
       " '_Sequence',\n",
       " '_Set',\n",
       " '__all__',\n",
       " '__builtins__',\n",
       " '__cached__',\n",
       " '__doc__',\n",
       " '__file__',\n",
       " '__loader__',\n",
       " '__name__',\n",
       " '__package__',\n",
       " '__spec__',\n",
       " '_acos',\n",
       " '_bisect',\n",
       " '_ceil',\n",
       " '_cos',\n",
       " '_e',\n",
       " '_exp',\n",
       " '_inst',\n",
       " '_itertools',\n",
       " '_log',\n",
       " '_pi',\n",
       " '_random',\n",
       " '_sha512',\n",
       " '_sin',\n",
       " '_sqrt',\n",
       " '_test',\n",
       " '_test_generator',\n",
       " '_urandom',\n",
       " '_warn',\n",
       " 'betavariate',\n",
       " 'choice',\n",
       " 'choices',\n",
       " 'expovariate',\n",
       " 'gammavariate',\n",
       " 'gauss',\n",
       " 'getrandbits',\n",
       " 'getstate',\n",
       " 'lognormvariate',\n",
       " 'normalvariate',\n",
       " 'paretovariate',\n",
       " 'randint',\n",
       " 'random',\n",
       " 'randrange',\n",
       " 'sample',\n",
       " 'seed',\n",
       " 'setstate',\n",
       " 'shuffle',\n",
       " 'triangular',\n",
       " 'uniform',\n",
       " 'vonmisesvariate',\n",
       " 'weibullvariate']"
      ]
     },
     "execution_count": 66,
     "metadata": {},
     "output_type": "execute_result"
    }
   ],
   "source": [
    "import random\n",
    "dir(random)"
   ]
  },
  {
   "cell_type": "code",
   "execution_count": 67,
   "metadata": {
    "collapsed": false
   },
   "outputs": [
    {
     "data": {
      "text/plain": [
       "0.22068630188372484"
      ]
     },
     "execution_count": 67,
     "metadata": {},
     "output_type": "execute_result"
    }
   ],
   "source": [
    "random.random()"
   ]
  },
  {
   "cell_type": "code",
   "execution_count": 70,
   "metadata": {
    "collapsed": true
   },
   "outputs": [],
   "source": [
    "? random.random"
   ]
  },
  {
   "cell_type": "code",
   "execution_count": 73,
   "metadata": {
    "collapsed": false
   },
   "outputs": [],
   "source": [
    "? random.shuffle"
   ]
  },
  {
   "cell_type": "code",
   "execution_count": 81,
   "metadata": {
    "collapsed": false
   },
   "outputs": [
    {
     "data": {
      "text/plain": [
       "[7, 2, 9, 0, 8, 1, 5, 4, 3, 6]"
      ]
     },
     "execution_count": 81,
     "metadata": {},
     "output_type": "execute_result"
    }
   ],
   "source": [
    "l = list(range(0,10))\n",
    "random.shuffle(l)\n",
    "l"
   ]
  },
  {
   "cell_type": "code",
   "execution_count": 83,
   "metadata": {
    "collapsed": true
   },
   "outputs": [],
   "source": [
    "from random import shuffle"
   ]
  },
  {
   "cell_type": "code",
   "execution_count": 85,
   "metadata": {
    "collapsed": false
   },
   "outputs": [
    {
     "data": {
      "text/plain": [
       "[6, 3, 4, 0, 7, 1, 5, 2, 8, 9]"
      ]
     },
     "execution_count": 85,
     "metadata": {},
     "output_type": "execute_result"
    }
   ],
   "source": [
    "l = list(range(0,10))\n",
    "shuffle(l)\n",
    "l"
   ]
  },
  {
   "cell_type": "code",
   "execution_count": 91,
   "metadata": {
    "collapsed": false
   },
   "outputs": [],
   "source": [
    "import urllib.request\n",
    "url = urllib.request.urlopen(\"http://www.google.com/ncr\")"
   ]
  },
  {
   "cell_type": "markdown",
   "metadata": {},
   "source": [
    "ITERATION"
   ]
  },
  {
   "cell_type": "code",
   "execution_count": 93,
   "metadata": {
    "collapsed": false
   },
   "outputs": [
    {
     "name": "stdout",
     "output_type": "stream",
     "text": [
      "hello\n",
      "1\n",
      "2\n",
      "world\n"
     ]
    }
   ],
   "source": [
    "for i in ['hello', 1,2, 'world']:\n",
    "    print(i)"
   ]
  },
  {
   "cell_type": "code",
   "execution_count": 95,
   "metadata": {
    "collapsed": false
   },
   "outputs": [
    {
     "name": "stdout",
     "output_type": "stream",
     "text": [
      "10\n",
      "name\n"
     ]
    }
   ],
   "source": [
    "for i in {10:20, \"name\": \"same\"}:\n",
    "    print (i)"
   ]
  },
  {
   "cell_type": "code",
   "execution_count": 97,
   "metadata": {
    "collapsed": true
   },
   "outputs": [],
   "source": [
    "l = list(range(0,10))"
   ]
  },
  {
   "cell_type": "code",
   "execution_count": 101,
   "metadata": {
    "collapsed": false
   },
   "outputs": [
    {
     "data": {
      "text/plain": [
       "list_iterator"
      ]
     },
     "execution_count": 101,
     "metadata": {},
     "output_type": "execute_result"
    }
   ],
   "source": [
    "type(it)"
   ]
  },
  {
   "cell_type": "code",
   "execution_count": 117,
   "metadata": {
    "collapsed": false
   },
   "outputs": [
    {
     "name": "stdout",
     "output_type": "stream",
     "text": [
      "0\n",
      "1\n",
      "2\n",
      "3\n",
      "4\n",
      "5\n",
      "6\n",
      "7\n",
      "8\n",
      "9\n"
     ]
    }
   ],
   "source": [
    "it = iter(l)\n",
    "while True:\n",
    "    try:\n",
    "        print(next(it))\n",
    "    except StopIteration:\n",
    "        break"
   ]
  },
  {
   "cell_type": "code",
   "execution_count": 120,
   "metadata": {
    "collapsed": false
   },
   "outputs": [
    {
     "ename": "TypeError",
     "evalue": "'NoneType' object is not iterable",
     "output_type": "error",
     "traceback": [
      "\u001b[0;31m---------------------------------------------------------------------------\u001b[0m",
      "\u001b[0;31mTypeError\u001b[0m                                 Traceback (most recent call last)",
      "\u001b[0;32m<ipython-input-120-f7ed9a65f702>\u001b[0m in \u001b[0;36m<module>\u001b[0;34m()\u001b[0m\n\u001b[0;32m----> 1\u001b[0;31m \u001b[0mprint\u001b[0m\u001b[1;33m(\u001b[0m \u001b[0miter\u001b[0m\u001b[1;33m(\u001b[0m\u001b[1;32mNone\u001b[0m\u001b[1;33m)\u001b[0m \u001b[1;33m==\u001b[0m \u001b[1;32mNone\u001b[0m\u001b[1;33m.\u001b[0m\u001b[0m__iter__\u001b[0m\u001b[1;33m(\u001b[0m\u001b[1;33m)\u001b[0m\u001b[1;33m)\u001b[0m\u001b[1;33m\u001b[0m\u001b[0m\n\u001b[0m",
      "\u001b[0;31mTypeError\u001b[0m: 'NoneType' object is not iterable"
     ]
    }
   ],
   "source": [
    "print( iter(None) == None.__iter__())\n",
    "# same with next"
   ]
  }
 ],
 "metadata": {
  "kernelspec": {
   "display_name": "Python 3",
   "language": "python",
   "name": "python3"
  },
  "language_info": {
   "codemirror_mode": {
    "name": "ipython",
    "version": 3
   },
   "file_extension": ".py",
   "mimetype": "text/x-python",
   "name": "python",
   "nbconvert_exporter": "python",
   "pygments_lexer": "ipython3",
   "version": "3.6.0"
  }
 },
 "nbformat": 4,
 "nbformat_minor": 0
}
