{
 "cells": [
  {
   "cell_type": "code",
   "execution_count": 18,
   "metadata": {
    "collapsed": false
   },
   "outputs": [],
   "source": [
    "def integer_right_triangles(p):\n",
    "    l = []\n",
    "    sqrt = int(p**2)\n",
    "    for a in range(1,p+1):\n",
    "        for b in range(1,p):\n",
    "            c = ((a**2+b**2)**0.5)\n",
    "            if a+b+c == p and a<b<c:\n",
    "                l.append((a,b,(int)(c)))\n",
    "    return l"
   ]
  },
  {
   "cell_type": "code",
   "execution_count": 29,
   "metadata": {
    "collapsed": false
   },
   "outputs": [],
   "source": [
    "def gen_pattern(chars):\n",
    "    if(len(chars) <=1):\n",
    "        print(chars)\n",
    "        return\n",
    "    else:\n",
    "        for count in range(0,len(chars)):#prints top half of diamond\n",
    "            for blank in range(count,len(chars)):\n",
    "                print('.')\n",
    "            print(chars[-count])\n",
    "        return"
   ]
  },
  {
   "cell_type": "code",
   "execution_count": 30,
   "metadata": {
    "collapsed": false
   },
   "outputs": [
    {
     "name": "stdout",
     "output_type": "stream",
     "text": [
      "x\n"
     ]
    }
   ],
   "source": [
    "gen_pattern('x')"
   ]
  }
 ],
 "metadata": {
  "kernelspec": {
   "display_name": "Python 3",
   "language": "python",
   "name": "python3"
  },
  "language_info": {
   "codemirror_mode": {
    "name": "ipython",
    "version": 3
   },
   "file_extension": ".py",
   "mimetype": "text/x-python",
   "name": "python",
   "nbconvert_exporter": "python",
   "pygments_lexer": "ipython3",
   "version": "3.6.0"
  }
 },
 "nbformat": 4,
 "nbformat_minor": 2
}
