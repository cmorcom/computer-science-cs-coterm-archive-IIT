{
 "cells": [
  {
   "cell_type": "markdown",
   "metadata": {},
   "source": [
    "# Linked Structures\n",
    "\n",
    "## Agenda\n",
    "\n",
    "1. Motives\n",
    "2. Objectives\n",
    "3. Mechanisms"
   ]
  },
  {
   "cell_type": "markdown",
   "metadata": {},
   "source": [
    "## 1. Motives"
   ]
  },
  {
   "cell_type": "code",
   "execution_count": 52,
   "metadata": {
    "collapsed": false
   },
   "outputs": [
    {
     "data": {
      "image/png": "[encoded data removed]",
      "text/plain": [
       "<matplotlib.figure.Figure at 0x255ead25400>"
      ]
     },
     "metadata": {},
     "output_type": "display_data"
    }
   ],
   "source": [
    "%matplotlib inline\n",
    "import matplotlib.pyplot as plt\n",
    "import numpy as np\n",
    "from timeit import timeit\n",
    "\n",
    "def time_array_front_insert_delete(n):\n",
    "    return timeit('lst.insert(0, None) ; del lst[0]',\n",
    "                  'lst = list(range({}))'.format(n),\n",
    "                  number=1000)\n",
    "\n",
    "ns = np.linspace(100, 10000, 50)\n",
    "plt.plot(ns, [time_array_front_insert_delete(int(n)) for n in ns], 'ro')\n",
    "plt.show()"
   ]
  },
  {
   "cell_type": "code",
   "execution_count": 14,
   "metadata": {
    "collapsed": true
   },
   "outputs": [],
   "source": [
    "# consider:\n",
    "\n",
    "def concatenate(arr1, arr2):\n",
    "    \"\"\"Concatenates the contents of arr1 and arr2 as efficiently (time-wise)\n",
    "    as possible, so that the resulting structure can be used to index all\n",
    "    combined elements (arr1's followed by arr2's).\"\"\"\n",
    "\n",
    "    # option 1:\n",
    "    for x in arr2:\n",
    "        arr1.append(x)\n",
    "    return arr1\n",
    "\n",
    "    # option 2:\n",
    "    arr1.extend(arr2)\n",
    "    return arr1\n",
    "\n",
    "    # option 3:\n",
    "    return arr1 + arr2"
   ]
  },
  {
   "cell_type": "markdown",
   "metadata": {},
   "source": [
    "## 2. Objectives\n",
    "\n",
    "We need a new data storage mechanism for constructing data structures that:\n",
    "\n",
    "- does not require monolithic, contiguous memory allocation,\n",
    "- allows individual elements to be flexibly and efficiently reorganized,\n",
    "- and preserves the ability to locate (e.g., via position) and iterate over elements"
   ]
  },
  {
   "cell_type": "markdown",
   "metadata": {},
   "source": [
    "## 3. Mechanisms"
   ]
  },
  {
   "cell_type": "markdown",
   "metadata": {},
   "source": [
    "### 3.1. Two-Element Lists"
   ]
  },
  {
   "cell_type": "code",
   "execution_count": 45,
   "metadata": {
    "collapsed": true
   },
   "outputs": [],
   "source": [
    "# data items\n",
    "i1 = 'lions'\n",
    "i2 = 'tigers'\n",
    "i3 = 'bears'\n",
    "i4 = 'oh, my'"
   ]
  },
  {
   "cell_type": "code",
   "execution_count": 46,
   "metadata": {
    "collapsed": true
   },
   "outputs": [],
   "source": [
    "# creating individual \"links\"\n",
    "l1 = [i1, None]\n",
    "l2 = [i2, None]\n",
    "l3 = [i3, None]\n",
    "l4 = [i4, None]"
   ]
  },
  {
   "cell_type": "code",
   "execution_count": 47,
   "metadata": {
    "collapsed": false
   },
   "outputs": [],
   "source": [
    "# link-ing them together\n",
    "l1[1]=l2\n",
    "l2[1]=l3\n",
    "l3[1]=l4\n",
    "l4[1]=None"
   ]
  },
  {
   "cell_type": "code",
   "execution_count": 29,
   "metadata": {
    "collapsed": false
   },
   "outputs": [
    {
     "name": "stdout",
     "output_type": "stream",
     "text": [
      "lions\n",
      "tigers\n",
      "bears\n",
      "oh, my\n"
     ]
    }
   ],
   "source": [
    "# iteration\n",
    "l = l1\n",
    "while l:\n",
    "    print(l[0])\n",
    "    l=l[1]"
   ]
  },
  {
   "cell_type": "code",
   "execution_count": 30,
   "metadata": {
    "collapsed": true
   },
   "outputs": [],
   "source": [
    "def iter(l):\n",
    "    while l:\n",
    "        yield l[0]\n",
    "        l=l[1]"
   ]
  },
  {
   "cell_type": "code",
   "execution_count": 31,
   "metadata": {
    "collapsed": true
   },
   "outputs": [],
   "source": [
    "# prepending\n",
    "def prepend(l,x):\n",
    "    return [x,l]"
   ]
  },
  {
   "cell_type": "code",
   "execution_count": 33,
   "metadata": {
    "collapsed": false
   },
   "outputs": [
    {
     "name": "stdout",
     "output_type": "stream",
     "text": [
      "whale\n",
      "lions\n",
      "tigers\n",
      "bears\n",
      "oh, my\n"
     ]
    }
   ],
   "source": [
    "#example\n",
    "for x in iter(prepend(l1,'whale')):\n",
    "    print(x)"
   ]
  },
  {
   "cell_type": "code",
   "execution_count": 34,
   "metadata": {
    "collapsed": false
   },
   "outputs": [
    {
     "ename": "TypeError",
     "evalue": "'NoneType' object does not support item assignment",
     "output_type": "error",
     "traceback": [
      "\u001b[0;31m---------------------------------------------------------------------------\u001b[0m",
      "\u001b[0;31mTypeError\u001b[0m                                 Traceback (most recent call last)",
      "\u001b[0;32m<ipython-input-34-c9c808c679b2>\u001b[0m in \u001b[0;36m<module>\u001b[0;34m()\u001b[0m\n\u001b[1;32m      1\u001b[0m \u001b[1;31m# insertion\u001b[0m\u001b[1;33m\u001b[0m\u001b[1;33m\u001b[0m\u001b[0m\n\u001b[1;32m      2\u001b[0m \u001b[0ml1\u001b[0m\u001b[1;33m[\u001b[0m\u001b[1;36m1\u001b[0m\u001b[1;33m]\u001b[0m\u001b[1;33m=\u001b[0m\u001b[0ml\u001b[0m\u001b[1;33m\u001b[0m\u001b[0m\n\u001b[0;32m----> 3\u001b[0;31m \u001b[0ml\u001b[0m\u001b[1;33m[\u001b[0m\u001b[1;36m1\u001b[0m\u001b[1;33m]\u001b[0m\u001b[1;33m=\u001b[0m\u001b[0ml2\u001b[0m\u001b[1;33m\u001b[0m\u001b[0m\n\u001b[0m",
      "\u001b[0;31mTypeError\u001b[0m: 'NoneType' object does not support item assignment"
     ]
    }
   ],
   "source": [
    "# insertion\n",
    "l1[1]=l\n",
    "l[1]=l2"
   ]
  },
  {
   "cell_type": "code",
   "execution_count": 36,
   "metadata": {
    "collapsed": false
   },
   "outputs": [
    {
     "ename": "TypeError",
     "evalue": "'NoneType' object does not support item assignment",
     "output_type": "error",
     "traceback": [
      "\u001b[0;31m---------------------------------------------------------------------------\u001b[0m",
      "\u001b[0;31mTypeError\u001b[0m                                 Traceback (most recent call last)",
      "\u001b[0;32m<ipython-input-36-4a17f9f5741b>\u001b[0m in \u001b[0;36m<module>\u001b[0;34m()\u001b[0m\n\u001b[1;32m      1\u001b[0m \u001b[1;31m# deletion (similar to above)\u001b[0m\u001b[1;33m\u001b[0m\u001b[1;33m\u001b[0m\u001b[0m\n\u001b[1;32m      2\u001b[0m \u001b[0ml1\u001b[0m\u001b[1;33m[\u001b[0m\u001b[1;36m1\u001b[0m\u001b[1;33m]\u001b[0m\u001b[1;33m=\u001b[0m\u001b[0ml2\u001b[0m\u001b[1;33m\u001b[0m\u001b[0m\n\u001b[0;32m----> 3\u001b[0;31m \u001b[0ml\u001b[0m\u001b[1;33m[\u001b[0m\u001b[1;36m1\u001b[0m\u001b[1;33m]\u001b[0m\u001b[1;33m=\u001b[0m\u001b[1;32mNone\u001b[0m\u001b[1;33m\u001b[0m\u001b[0m\n\u001b[0m",
      "\u001b[0;31mTypeError\u001b[0m: 'NoneType' object does not support item assignment"
     ]
    }
   ],
   "source": [
    "# deletion (similar to above)\n",
    "l1[1]=l2\n",
    "l[1]=None"
   ]
  },
  {
   "cell_type": "markdown",
   "metadata": {},
   "source": [
    "### 3.2. \"Link\" objects"
   ]
  },
  {
   "cell_type": "code",
   "execution_count": 37,
   "metadata": {
    "collapsed": true
   },
   "outputs": [],
   "source": [
    "class Link:\n",
    "    def __init__(self, val, next=None):\n",
    "        self.val = val\n",
    "        self.next = next"
   ]
  },
  {
   "cell_type": "code",
   "execution_count": 52,
   "metadata": {
    "collapsed": true
   },
   "outputs": [],
   "source": [
    "# manually constructing a list\n",
    "l1 = Link(i1)\n",
    "l2 = Link(i2)\n",
    "l3 = Link(i3)\n",
    "l4 = Link(i4)\n",
    "l1.next=l2\n",
    "l2.next=l3\n",
    "l3.next=l4"
   ]
  },
  {
   "cell_type": "code",
   "execution_count": 57,
   "metadata": {
    "collapsed": false
   },
   "outputs": [
    {
     "name": "stdout",
     "output_type": "stream",
     "text": [
      "lions\n",
      "oh, my\n"
     ]
    }
   ],
   "source": [
    "print(l1.val)\n",
    "print(l1.next.next.next.val)"
   ]
  },
  {
   "cell_type": "code",
   "execution_count": 59,
   "metadata": {
    "collapsed": false
   },
   "outputs": [],
   "source": [
    "#iteration\n",
    "def _iter_(l):\n",
    "    while l:\n",
    "        yield l.val\n",
    "        l=l.next"
   ]
  },
  {
   "cell_type": "code",
   "execution_count": 61,
   "metadata": {
    "collapsed": false
   },
   "outputs": [
    {
     "name": "stdout",
     "output_type": "stream",
     "text": [
      "bears\n",
      "oh, my\n"
     ]
    }
   ],
   "source": [
    "for x in _iter_(l3):\n",
    "    print(x)"
   ]
  },
  {
   "cell_type": "code",
   "execution_count": 62,
   "metadata": {
    "collapsed": true
   },
   "outputs": [],
   "source": [
    "# iteration based on a recursive pattern\n",
    "def _iter_(l):\n",
    "    if l:\n",
    "        print(l.val)\n",
    "        _iter_(l.next)"
   ]
  },
  {
   "cell_type": "code",
   "execution_count": 63,
   "metadata": {
    "collapsed": false
   },
   "outputs": [
    {
     "name": "stdout",
     "output_type": "stream",
     "text": [
      "lions\n",
      "tigers\n",
      "bears\n",
      "oh, my\n"
     ]
    }
   ],
   "source": [
    "_iter_(l1)"
   ]
  },
  {
   "cell_type": "code",
   "execution_count": 64,
   "metadata": {
    "collapsed": true
   },
   "outputs": [],
   "source": [
    "class LinkedList:\n",
    "    def __init__(self):\n",
    "        self.head = None\n",
    "        \n",
    "    def prepend(self, val):\n",
    "        self.head = Link(val, self.head)\n",
    "        \n",
    "    def __iter__(self):\n",
    "        cursor = self.head\n",
    "        while cursor:\n",
    "            yield cursor.val\n",
    "            cursor = cursor.next\n",
    "            \n",
    "    def __repr__(self):\n",
    "        return '[' + ', '.join(str(x) for x in self) + ']'"
   ]
  },
  {
   "cell_type": "code",
   "execution_count": 67,
   "metadata": {
    "collapsed": false
   },
   "outputs": [
    {
     "name": "stdout",
     "output_type": "stream",
     "text": [
      "[9, 8, 7, 6, 5, 4, 3, 2, 1, 0]\n"
     ]
    }
   ],
   "source": [
    "ll=LinkedList()\n",
    "for x in range(10):\n",
    "    ll.prepend(x)\n",
    "print(ll)"
   ]
  },
  {
   "cell_type": "code",
   "execution_count": 69,
   "metadata": {
    "collapsed": true
   },
   "outputs": [],
   "source": [
    "class BinaryLink:\n",
    "    def __init__(self, val, left=None, right=None):\n",
    "        self.val = val\n",
    "        self.left = left\n",
    "        self.right = right"
   ]
  },
  {
   "cell_type": "code",
   "execution_count": 72,
   "metadata": {
    "collapsed": false
   },
   "outputs": [],
   "source": [
    "t=BinaryLink(i1)\n",
    "t.left = BinaryLink(i2)\n",
    "t.right = BinaryLink(l3)\n",
    "t.left.left = BinaryLink(i4)"
   ]
  },
  {
   "cell_type": "code",
   "execution_count": null,
   "metadata": {
    "collapsed": true
   },
   "outputs": [],
   "source": [
    "# manual construction of a \"tree\""
   ]
  },
  {
   "cell_type": "code",
   "execution_count": 73,
   "metadata": {
    "collapsed": true
   },
   "outputs": [],
   "source": [
    "def tree_iter(root):\n",
    "    if root:\n",
    "        yield root.val\n",
    "        yield from tree_iter(root.left)\n",
    "        yield from tree_iter(root.right)"
   ]
  },
  {
   "cell_type": "code",
   "execution_count": 75,
   "metadata": {
    "collapsed": false
   },
   "outputs": [
    {
     "name": "stdout",
     "output_type": "stream",
     "text": [
      "lions\n",
      "tigers\n",
      "oh, my\n",
      "<__main__.Link object at 0x000002C4C4004E48>\n"
     ]
    }
   ],
   "source": [
    "for x in tree_iter(t):\n",
    "    print(x)"
   ]
  },
  {
   "cell_type": "code",
   "execution_count": 76,
   "metadata": {
    "collapsed": true
   },
   "outputs": [],
   "source": [
    "class NaryLink:\n",
    "    def __init__(self, val, n=2):\n",
    "        self.val = val\n",
    "        self.children = [None] * n\n",
    "        \n",
    "    def __getitem__(self, idx):\n",
    "        return self.children[idx]\n",
    "    \n",
    "    def __setitem__(self, idx, val):\n",
    "        self.children[idx] = val\n",
    "        \n",
    "    def __iter__(self):\n",
    "        for c in self.children:\n",
    "            yield c"
   ]
  },
  {
   "cell_type": "code",
   "execution_count": 77,
   "metadata": {
    "collapsed": false
   },
   "outputs": [],
   "source": [
    "root = NaryLink('Kingdoms', n=5)\n",
    "\n",
    "root[0] = NaryLink('Animalia', n=35)\n",
    "root[1] = NaryLink('Plantae', n=12)\n",
    "root[2] = NaryLink('Fungi', n=7)\n",
    "root[3] = NaryLink('Protista', n=5)\n",
    "root[4] = NaryLink('Monera', n=5)\n",
    "\n",
    "root[2][0] = NaryLink('Chytridiomycota')\n",
    "root[2][1] = NaryLink('Blastocladiomycota')\n",
    "root[2][2] = NaryLink('Glomeromycota')\n",
    "root[2][3] = NaryLink('Ascomycota')\n",
    "root[2][4] = NaryLink('Basidiomycota')\n",
    "root[2][5] = NaryLink('Microsporidia')\n",
    "root[2][6] = NaryLink('Neocallimastigomycota')\n",
    "\n",
    "def tree_iter(root):\n",
    "    if root:\n",
    "        yield root.val\n",
    "        for c in root:\n",
    "            yield from tree_iter(c)"
   ]
  },
  {
   "cell_type": "code",
   "execution_count": 78,
   "metadata": {
    "collapsed": false,
    "scrolled": true
   },
   "outputs": [
    {
     "name": "stdout",
     "output_type": "stream",
     "text": [
      "Kingdoms\n",
      "Animalia\n",
      "Plantae\n",
      "Fungi\n",
      "Chytridiomycota\n",
      "Blastocladiomycota\n",
      "Glomeromycota\n",
      "Ascomycota\n",
      "Basidiomycota\n",
      "Microsporidia\n",
      "Neocallimastigomycota\n",
      "Protista\n",
      "Monera\n"
     ]
    }
   ],
   "source": [
    "for x in tree_iter(root):\n",
    "    print(x)"
   ]
  }
 ],
 "metadata": {
  "kernelspec": {
   "display_name": "Python 3",
   "language": "python",
   "name": "python3"
  },
  "language_info": {
   "codemirror_mode": {
    "name": "ipython",
    "version": 3
   },
   "file_extension": ".py",
   "mimetype": "text/x-python",
   "name": "python",
   "nbconvert_exporter": "python",
   "pygments_lexer": "ipython3",
   "version": "3.6.0"
  }
 },
 "nbformat": 4,
 "nbformat_minor": 0
}
