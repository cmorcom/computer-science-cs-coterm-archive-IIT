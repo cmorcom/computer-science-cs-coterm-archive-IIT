{
 "cells": [
  {
   "cell_type": "markdown",
   "metadata": {},
   "source": [
    "# Preliminaries\n",
    "\n",
    "All assignments for this class will be fetched, worked-on, and submitted via a dynamic in-browser Python development and testing environment known as the [Jupyter Notebook](http://jupyter.org/).\n",
    "\n",
    "This first machine problem is intended to familiarize you with the environment and assignment retrieval/submission system, and to have you write some simple Python functions and test them using unit test cells, which will be found in all subsequent assignments."
   ]
  },
  {
   "cell_type": "markdown",
   "metadata": {},
   "source": [
    "## Fetching assignments\n",
    "\n",
    "If you're reading this, then you're likely already familiar with the procedure for fetching an assignment. To recap:\n",
    "\n",
    "- After logging in using your @hawk.iit.edu account, you'll either click \"Start Server\" or \"My Server\" to go to the Jupyter dashboard\n",
    "- From there, go to the \"Assignments\" tab, where you'll see any newly released assignments in the \"Released assignments\" area. You can fetch the files by clicking the \"Fetch\" button next to each assignment.\n",
    "- After an assignment has been fetched, you'll see it in the \"Downloaded assignments\" area, where you can expand the assignment to click on individual notebooks to open them up. You can also validate and submit your work here. Alternatively, you can also browse into an assignment folder from the \"Files\" tab and click on notebook files to open them up there."
   ]
  },
  {
   "cell_type": "markdown",
   "metadata": {},
   "source": [
    "## Exercise 1: Factorial\n",
    "\n",
    "Most of the machine problems you'll be working on will have auto-graded pieces. Typically, these involve functions you need to complete, paired with test-cases written for you.\n",
    "\n",
    "Below, for instance, is a stubbed out `factorial` function for you to complete. If you've forgotten, the factorial of a positive integer *n* is simply the product of all integers from *n* down through 1. E.g., the factorial of $5 = 5 \\times 4 \\times 3 \\times 2 \\times 1 = 120$.\n",
    "\n",
    "Go ahead and complete the implementation of `factorial` now. (You should delete the comment and the `raise` statement.)"
   ]
  },
  {
   "cell_type": "code",
   "execution_count": 1,
   "metadata": {
    "collapsed": true,
    "deletable": false,
    "nbgrader": {
     "checksum": "5551a4138278a7e51641f8be874884f0",
     "grade": false,
     "grade_id": "factorial",
     "locked": false,
     "schema_version": 1,
     "solution": true
    }
   },
   "outputs": [],
   "source": [
    "def factorial(n):\n",
    "    if n==0:\n",
    "        return 1\n",
    "    else:\n",
    "        return n*factorial(n-1)"
   ]
  },
  {
   "cell_type": "markdown",
   "metadata": {},
   "source": [
    "When you're done with your solution, you can run the tests in the cell below (but don't modify its contents!) to see how you did. Any errors will be displayed as output; if there is no output after the cell is evaluated, it means you passed all the tests contained therein."
   ]
  },
  {
   "cell_type": "code",
   "execution_count": 2,
   "metadata": {
    "collapsed": true,
    "deletable": false,
    "editable": false,
    "nbgrader": {
     "checksum": "837b5eaa6cbd768b1ef25e402a72ff3e",
     "grade": true,
     "grade_id": "factorial_test",
     "locked": true,
     "points": 2,
     "schema_version": 1,
     "solution": false
    }
   },
   "outputs": [],
   "source": [
    "# (2 points)\n",
    "import unittest\n",
    "tc = unittest.TestCase()\n",
    "tc.assertEqual(factorial(1), 1)\n",
    "tc.assertEqual(factorial(5), 120)\n",
    "tc.assertEqual(factorial(10), 3628800)"
   ]
  },
  {
   "cell_type": "markdown",
   "metadata": {},
   "source": [
    "## Exercise 2: Multiples of 3 and 5\n",
    "\n",
    "If we list all the natural numbers below 10 that are multiples of 3 or 5, we get 3, 5, 6 and 9. The sum of these multiples is 23.\n",
    "\n",
    "Complete the following function, which finds the sum of all the multiples of 3 or 5 below the argument `n`."
   ]
  },
  {
   "cell_type": "code",
   "execution_count": 3,
   "metadata": {
    "collapsed": true,
    "deletable": false,
    "nbgrader": {
     "checksum": "7a7824cb313a6e3c1477023947231262",
     "grade": false,
     "grade_id": "multiples_of_3_and_5",
     "locked": false,
     "schema_version": 1,
     "solution": true
    }
   },
   "outputs": [],
   "source": [
    "def multiples_of_3_and_5(n):\n",
    "    n-=1\n",
    "    if n == 0:\n",
    "        return 0\n",
    "    if n%3 == 0 or n%5 == 0:\n",
    "        return n+multiples_of_3_and_5(n)\n",
    "    else:\n",
    "        return multiples_of_3_and_5(n)"
   ]
  },
  {
   "cell_type": "code",
   "execution_count": 4,
   "metadata": {
    "collapsed": true,
    "deletable": false,
    "editable": false,
    "nbgrader": {
     "checksum": "91bc9f04934a38764c0ed06ccbd52d5f",
     "grade": true,
     "grade_id": "multiples_of_3_and_5_test",
     "locked": true,
     "points": 3,
     "schema_version": 1,
     "solution": false
    }
   },
   "outputs": [],
   "source": [
    "# (3 points)\n",
    "import unittest\n",
    "tc = unittest.TestCase()\n",
    "tc.assertEqual(multiples_of_3_and_5(10), 23)\n",
    "tc.assertEqual(multiples_of_3_and_5(500), 57918)\n",
    "tc.assertEqual(multiples_of_3_and_5(1000), 233168)"
   ]
  },
  {
   "cell_type": "markdown",
   "metadata": {},
   "source": [
    "## Exercise 3: Integer Right Triangles\n",
    "\n",
    "Given a perimeter of 60, we can find two right triangles with integral length sides: [(10, 24, 26), (15, 20, 25)]. Complete the following function, which takes an integer `p` and returns a list of tuples (*a*, *b*, *c*) corresponding to the integral lengths of the sides of comforming right triangles. Each tuple should have $a \\le b \\lt c$, and the list should contain no duplicate solutions, and be sorted in order of ascending *a*."
   ]
  },
  {
   "cell_type": "code",
   "execution_count": 5,
   "metadata": {
    "collapsed": true,
    "deletable": false,
    "nbgrader": {
     "checksum": "b8cf53f21a2ea37855eb0426899f4869",
     "grade": false,
     "grade_id": "integer_right_triangles",
     "locked": false,
     "schema_version": 1,
     "solution": true
    }
   },
   "outputs": [],
   "source": [
    "def integer_right_triangles(p):\n",
    "    l = []\n",
    "    sqrt = int(p**2)\n",
    "    for a in range(1,p+1):\n",
    "        for b in range(1,p):\n",
    "            c = ((a**2+b**2)**0.5)\n",
    "            if a+b+c == p and a<b<c:\n",
    "                l.append((a,b,(int)(c)))\n",
    "    return l"
   ]
  },
  {
   "cell_type": "code",
   "execution_count": 6,
   "metadata": {
    "collapsed": true,
    "deletable": false,
    "editable": false,
    "nbgrader": {
     "checksum": "15db32943ed35915e03187cb65cf0e47",
     "grade": true,
     "grade_id": "integer_right_triangles_tests_1",
     "locked": true,
     "points": 1,
     "schema_version": 1,
     "solution": false
    }
   },
   "outputs": [],
   "source": [
    "# (1 point)\n",
    "import unittest\n",
    "tc = unittest.TestCase()\n",
    "tc.assertEqual(integer_right_triangles(60), [(10, 24, 26), (15, 20, 25)])"
   ]
  },
  {
   "cell_type": "code",
   "execution_count": 7,
   "metadata": {
    "collapsed": true,
    "deletable": false,
    "editable": false,
    "nbgrader": {
     "checksum": "9ba9f91cc53351ad72d25ba1c09fd60d",
     "grade": true,
     "grade_id": "integer_right_triangles_tests_2",
     "locked": true,
     "points": 3,
     "schema_version": 1,
     "solution": false
    }
   },
   "outputs": [],
   "source": [
    "# (3 points)\n",
    "import unittest\n",
    "tc = unittest.TestCase()\n",
    "tc.assertEqual(integer_right_triangles(100), [])\n",
    "tc.assertEqual(integer_right_triangles(180), [(18, 80, 82), (30, 72, 78), (45, 60, 75)])\n",
    "tc.assertEqual(integer_right_triangles(840), \n",
    "               [(40, 399, 401),\n",
    "                (56, 390, 394),\n",
    "                (105, 360, 375),\n",
    "                (120, 350, 370),\n",
    "                (140, 336, 364),\n",
    "                (168, 315, 357),\n",
    "                (210, 280, 350),\n",
    "                (240, 252, 348)])"
   ]
  },
  {
   "cell_type": "markdown",
   "metadata": {},
   "source": [
    "## Exercise 4: Simple ASCII Art\n",
    "\n",
    "For this next exercise, you'll need to complete the function `gen_pattern`, which, when called with a string of length $\\ge$ 1, will generate an ASCII art pattern of concentric diamonds using those characters. The following are examples of patterns returned by the function:\n",
    "\n",
    "    > print(gen_pattern('X'))\n",
    "    \n",
    "    X\n",
    "    \n",
    "    > print(gen_pattern('XY'))\n",
    "    \n",
    "    ..Y..\n",
    "    Y.X.Y\n",
    "    ..Y..\n",
    "    \n",
    "    > print(gen_pattern('WXYZ'))\n",
    "    \n",
    "    ......Z......\n",
    "    ....Z.Y.Z....\n",
    "    ..Z.Y.X.Y.Z..\n",
    "    Z.Y.X.W.X.Y.Z\n",
    "    ..Z.Y.X.Y.Z..\n",
    "    ....Z.Y.Z....\n",
    "    ......Z......\n",
    "    \n",
    "Note that the function will *return* the pattern as a string (as opposed to printing it out), and so each line of the pattern should be separated by a newline, written as `'\\n'` in Python. The second pattern above, as returned by `gen_pattern`, would be `''..Y..\\nY.X.Y\\n..Y..'`.\n",
    "\n",
    "You ought to find the string [`join`](https://docs.python.org/3.6/library/stdtypes.html#str.join) and [`center`](https://docs.python.org/3.6/library/stdtypes.html#str.center) methods helpful in your implementation. They are demonstrated here:\n",
    "\n",
    "    > '*'.join(['one', 'two', 'three'])\n",
    "    \n",
    "    'one*two*three'\n",
    "    \n",
    "    > '*'.join('abcde')\n",
    "    \n",
    "    'a*b*c*d*e'\n",
    "    \n",
    "    > 'hello'.center(11, '*')\n",
    "    \n",
    "    '***hello***'\n",
    "    \n",
    "Complete the `gen_pattern` function, below:"
   ]
  },
  {
   "cell_type": "code",
   "execution_count": 8,
   "metadata": {
    "deletable": false,
    "nbgrader": {
     "checksum": "aba9f491d2bb818d095945f50bc40df8",
     "grade": false,
     "grade_id": "gen_pattern",
     "locked": false,
     "schema_version": 1,
     "solution": true
    }
   },
   "outputs": [],
   "source": [
    "def gen_pattern(chars):\n",
    "    length = len(chars)\n",
    "    string = ''\n",
    "    dots = (length*2 - 1)*2 - 1\n",
    "    if length == 1:\n",
    "        return chars\n",
    "    else:\n",
    "        string = ('.'.join(chars[length-1:0:-1]+chars)).center(dots,'.')\n",
    "        for index in range(1, length):\n",
    "            line = ('.'.join(chars[length-1:index-1:-1]+chars[index+1:length])).center(dots,'.')\n",
    "            string += '\\n'+ line\n",
    "        return string[len(string)-1:dots:-1]+'\\n'+string"
   ]
  },
  {
   "cell_type": "code",
   "execution_count": 9,
   "metadata": {
    "deletable": false,
    "editable": false,
    "nbgrader": {
     "checksum": "38918b9fd2152f6a6a25ce899fdfe6bc",
     "grade": true,
     "grade_id": "gen_pattern_tests_1",
     "locked": true,
     "points": 2,
     "schema_version": 1,
     "solution": false
    }
   },
   "outputs": [],
   "source": [
    "# (2 points)\n",
    "import unittest\n",
    "tc = unittest.TestCase()\n",
    "tc.assertEqual(gen_pattern('@'), '@')\n",
    "tc.assertEqual(gen_pattern('@%'),\n",
    "'''..%..\n",
    "%.@.%\n",
    "..%..''')"
   ]
  },
  {
   "cell_type": "code",
   "execution_count": 10,
   "metadata": {
    "collapsed": true,
    "deletable": false,
    "editable": false,
    "nbgrader": {
     "checksum": "ebc0d5d9bbe4f641dbb5d4ac77ddf283",
     "grade": true,
     "grade_id": "gen_pattern_tests_2",
     "locked": true,
     "points": 2,
     "schema_version": 1,
     "solution": false
    }
   },
   "outputs": [],
   "source": [
    "# (2 points)\n",
    "import unittest\n",
    "tc = unittest.TestCase()\n",
    "tc.assertEqual(gen_pattern('ABC'),\n",
    "'''....C....\n",
    "..C.B.C..\n",
    "C.B.A.B.C\n",
    "..C.B.C..\n",
    "....C....''')\n",
    "tc.assertEqual(gen_pattern('#####'),\n",
    "'''........#........\n",
    "......#.#.#......\n",
    "....#.#.#.#.#....\n",
    "..#.#.#.#.#.#.#..\n",
    "#.#.#.#.#.#.#.#.#\n",
    "..#.#.#.#.#.#.#..\n",
    "....#.#.#.#.#....\n",
    "......#.#.#......\n",
    "........#........''')"
   ]
  },
  {
   "cell_type": "code",
   "execution_count": 11,
   "metadata": {
    "collapsed": true,
    "deletable": false,
    "editable": false,
    "nbgrader": {
     "checksum": "1680e6d35214f42f0260cda6b772a0bd",
     "grade": true,
     "grade_id": "gen_pattern_tests_3",
     "locked": true,
     "points": 2,
     "schema_version": 1,
     "solution": false
    }
   },
   "outputs": [],
   "source": [
    "# (2 points)\n",
    "import unittest\n",
    "tc = unittest.TestCase()\n",
    "tc.assertEqual(gen_pattern('abcdefghijklmnop'),\n",
    "'''..............................p..............................\n",
    "............................p.o.p............................\n",
    "..........................p.o.n.o.p..........................\n",
    "........................p.o.n.m.n.o.p........................\n",
    "......................p.o.n.m.l.m.n.o.p......................\n",
    "....................p.o.n.m.l.k.l.m.n.o.p....................\n",
    "..................p.o.n.m.l.k.j.k.l.m.n.o.p..................\n",
    "................p.o.n.m.l.k.j.i.j.k.l.m.n.o.p................\n",
    "..............p.o.n.m.l.k.j.i.h.i.j.k.l.m.n.o.p..............\n",
    "............p.o.n.m.l.k.j.i.h.g.h.i.j.k.l.m.n.o.p............\n",
    "..........p.o.n.m.l.k.j.i.h.g.f.g.h.i.j.k.l.m.n.o.p..........\n",
    "........p.o.n.m.l.k.j.i.h.g.f.e.f.g.h.i.j.k.l.m.n.o.p........\n",
    "......p.o.n.m.l.k.j.i.h.g.f.e.d.e.f.g.h.i.j.k.l.m.n.o.p......\n",
    "....p.o.n.m.l.k.j.i.h.g.f.e.d.c.d.e.f.g.h.i.j.k.l.m.n.o.p....\n",
    "..p.o.n.m.l.k.j.i.h.g.f.e.d.c.b.c.d.e.f.g.h.i.j.k.l.m.n.o.p..\n",
    "p.o.n.m.l.k.j.i.h.g.f.e.d.c.b.a.b.c.d.e.f.g.h.i.j.k.l.m.n.o.p\n",
    "..p.o.n.m.l.k.j.i.h.g.f.e.d.c.b.c.d.e.f.g.h.i.j.k.l.m.n.o.p..\n",
    "....p.o.n.m.l.k.j.i.h.g.f.e.d.c.d.e.f.g.h.i.j.k.l.m.n.o.p....\n",
    "......p.o.n.m.l.k.j.i.h.g.f.e.d.e.f.g.h.i.j.k.l.m.n.o.p......\n",
    "........p.o.n.m.l.k.j.i.h.g.f.e.f.g.h.i.j.k.l.m.n.o.p........\n",
    "..........p.o.n.m.l.k.j.i.h.g.f.g.h.i.j.k.l.m.n.o.p..........\n",
    "............p.o.n.m.l.k.j.i.h.g.h.i.j.k.l.m.n.o.p............\n",
    "..............p.o.n.m.l.k.j.i.h.i.j.k.l.m.n.o.p..............\n",
    "................p.o.n.m.l.k.j.i.j.k.l.m.n.o.p................\n",
    "..................p.o.n.m.l.k.j.k.l.m.n.o.p..................\n",
    "....................p.o.n.m.l.k.l.m.n.o.p....................\n",
    "......................p.o.n.m.l.m.n.o.p......................\n",
    "........................p.o.n.m.n.o.p........................\n",
    "..........................p.o.n.o.p..........................\n",
    "............................p.o.p............................\n",
    "..............................p..............................''')"
   ]
  },
  {
   "cell_type": "markdown",
   "metadata": {},
   "source": [
    "## Submission\n",
    "\n",
    "When you're ready to submit your work, make sure it's saved (you can click the disk icon in the menu bar), then go back to the \"Assignments\" tab and click \"Submit\" next to this assignment in the \"Downloaded assignments\" area. You can submit as many times as you like before the due date -- you'll see your submissions listed in the \"Submitted assignments\" area.\n",
    "\n",
    "That's it for now!"
   ]
  }
 ],
 "metadata": {
  "kernelspec": {
   "display_name": "Python 3",
   "language": "python",
   "name": "python3"
  },
  "language_info": {
   "codemirror_mode": {
    "name": "ipython",
    "version": 3
   },
   "file_extension": ".py",
   "mimetype": "text/x-python",
   "name": "python",
   "nbconvert_exporter": "python",
   "pygments_lexer": "ipython3",
   "version": "3.5.2"
  }
 },
 "nbformat": 4,
 "nbformat_minor": 1
}
