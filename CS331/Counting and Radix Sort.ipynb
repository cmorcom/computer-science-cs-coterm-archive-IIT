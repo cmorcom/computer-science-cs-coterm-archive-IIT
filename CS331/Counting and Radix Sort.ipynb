{
 "cells": [
  {
   "cell_type": "code",
   "execution_count": 12,
   "metadata": {},
   "outputs": [
    {
     "name": "stdout",
     "output_type": "stream",
     "text": [
      "e e e e f g g k k o r s s\n"
     ]
    }
   ],
   "source": [
    "# Python program for counting sort (alphabetize)\n",
    "def countSort(arr):\n",
    "    output = [0 for i in range(256)]\n",
    "    count = [0 for i in range(256)]\n",
    "    ans = [\"\" for _ in arr]\n",
    "    for i in arr:\n",
    "        count[ord(i)] += 1\n",
    "    for i in range(256):\n",
    "        count[i] += count[i-1]\n",
    "    for i in range(len(arr)):\n",
    "        output[count[ord(arr[i])]-1] = arr[i]\n",
    "        count[ord(arr[i])] -= 1\n",
    "    for i in range(len(arr)):\n",
    "        ans[i] = output[i]\n",
    "    return ans \n",
    "arr = \"geeksforgeeks\"\n",
    "ans = countSort(arr)\n",
    "print((\" \".join(ans)))"
   ]
  },
  {
   "cell_type": "code",
   "execution_count": 3,
   "metadata": {},
   "outputs": [],
   "source": [
    "def radixsort( aList ):\n",
    "  RADIX = 10\n",
    "  maxLength = False\n",
    "  tmp , placement = -1, 1\n",
    " \n",
    "  while not maxLength:\n",
    "    maxLength = True\n",
    "    # declare and initialize buckets\n",
    "    buckets = [list() for _ in range( RADIX )]\n",
    " \n",
    "    # split aList between lists\n",
    "    for  i in aList:\n",
    "      tmp = i / placement\n",
    "      buckets[int(tmp % RADIX)].append( i )\n",
    "      if maxLength and tmp > 0:\n",
    "        maxLength = False\n",
    " \n",
    "    # empty lists into aList array\n",
    "    a = 0\n",
    "    for b in range( RADIX ):\n",
    "      buck = buckets[b]\n",
    "      for i in buck:\n",
    "        aList[a] = i\n",
    "        a += 1\n",
    " \n",
    "    # move to next digit\n",
    "    placement *= RADIX"
   ]
  },
  {
   "cell_type": "code",
   "execution_count": 6,
   "metadata": {},
   "outputs": [
    {
     "name": "stdout",
     "output_type": "stream",
     "text": [
      "0 1 2 3 4 5 6 7 8 9 10 11 12 13 14 15 16 17 18 19 20 21 22 23 24 25 26 27 28 29 30 31 32 33 34 35 36 37 38 39 40 41 42 43 44 45 46 47 48 49 50 51 52 53 54 55 56 57 58 59 60 61 62 63 64 65 66 67 68 69 70 71 72 73 74 75 76 77 78 79 80 81 82 83 84 85 86 87 88 89 90 91 92 93 94 95 96 97 98 99 \n"
     ]
    }
   ],
   "source": [
    "import random\n",
    "lst = list(range(100))\n",
    "random.shuffle(lst)\n",
    "radixsort(lst)\n",
    "string = \"\"\n",
    "for x in lst:\n",
    "    print(x, end=\" \")"
   ]
  }
 ],
 "metadata": {
  "kernelspec": {
   "display_name": "Python 3",
   "language": "python",
   "name": "python3"
  },
  "language_info": {
   "codemirror_mode": {
    "name": "ipython",
    "version": 3
   },
   "file_extension": ".py",
   "mimetype": "text/x-python",
   "name": "python",
   "nbconvert_exporter": "python",
   "pygments_lexer": "ipython3",
   "version": "3.6.3"
  }
 },
 "nbformat": 4,
 "nbformat_minor": 2
}
